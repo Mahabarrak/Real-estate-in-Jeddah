{
 "cells": [
  {
   "cell_type": "markdown",
   "id": "347d3ae9",
   "metadata": {},
   "source": [
    "I Work in Open source Data from Saudi Ministry of Justice for Jeddah city، I cleaned and arranged the data using Excel.\n",
    "\n",
    "Available data for the 2018, 2019,2020,2021, each year has 3 column  price, area and deals. \n",
    "\n",
    "I did some general analysis then i select 5 district based on number of deals in 4 years, that’s Prince Fawaz, Al Amwaj,  Al Bawadi, Al-Bashaer and Obhur, and apply linear registration to predict price.\n"
   ]
  },
  {
   "cell_type": "code",
   "execution_count": 169,
   "id": "f14aca7f",
   "metadata": {},
   "outputs": [
    {
     "data": {
      "text/html": [
       "<div>\n",
       "<style scoped>\n",
       "    .dataframe tbody tr th:only-of-type {\n",
       "        vertical-align: middle;\n",
       "    }\n",
       "\n",
       "    .dataframe tbody tr th {\n",
       "        vertical-align: top;\n",
       "    }\n",
       "\n",
       "    .dataframe thead th {\n",
       "        text-align: right;\n",
       "    }\n",
       "</style>\n",
       "<table border=\"1\" class=\"dataframe\">\n",
       "  <thead>\n",
       "    <tr style=\"text-align: right;\">\n",
       "      <th></th>\n",
       "      <th>month</th>\n",
       "      <th>price18</th>\n",
       "      <th>area18</th>\n",
       "      <th>deals18</th>\n",
       "      <th>price19</th>\n",
       "      <th>area19</th>\n",
       "      <th>deals19</th>\n",
       "      <th>price20</th>\n",
       "      <th>area20</th>\n",
       "      <th>deals20</th>\n",
       "      <th>price21</th>\n",
       "      <th>area21</th>\n",
       "      <th>deals21</th>\n",
       "      <th>district</th>\n",
       "    </tr>\n",
       "  </thead>\n",
       "  <tbody>\n",
       "    <tr>\n",
       "      <th>0</th>\n",
       "      <td>يناير</td>\n",
       "      <td>82474372.0</td>\n",
       "      <td>20949.04</td>\n",
       "      <td>26.0</td>\n",
       "      <td>76425053.0</td>\n",
       "      <td>18349.17</td>\n",
       "      <td>14.0</td>\n",
       "      <td>25681391.0</td>\n",
       "      <td>4839.19</td>\n",
       "      <td>8.0</td>\n",
       "      <td>58205357.0</td>\n",
       "      <td>10914.390</td>\n",
       "      <td>17.0</td>\n",
       "      <td>أبحر الجنوبية</td>\n",
       "    </tr>\n",
       "    <tr>\n",
       "      <th>1</th>\n",
       "      <td>فبراير</td>\n",
       "      <td>42753205.0</td>\n",
       "      <td>12862.65</td>\n",
       "      <td>13.0</td>\n",
       "      <td>59691746.0</td>\n",
       "      <td>18295.10</td>\n",
       "      <td>16.0</td>\n",
       "      <td>45600693.0</td>\n",
       "      <td>10788.22</td>\n",
       "      <td>17.0</td>\n",
       "      <td>134565318.0</td>\n",
       "      <td>37320.710</td>\n",
       "      <td>58.0</td>\n",
       "      <td>أبحر الجنوبية</td>\n",
       "    </tr>\n",
       "    <tr>\n",
       "      <th>2</th>\n",
       "      <td>مارس</td>\n",
       "      <td>17849786.0</td>\n",
       "      <td>6404.82</td>\n",
       "      <td>13.0</td>\n",
       "      <td>64456882.0</td>\n",
       "      <td>12533.05</td>\n",
       "      <td>22.0</td>\n",
       "      <td>9664666.0</td>\n",
       "      <td>3129.02</td>\n",
       "      <td>8.0</td>\n",
       "      <td>16453446.0</td>\n",
       "      <td>5175.949</td>\n",
       "      <td>10.0</td>\n",
       "      <td>أبحر الجنوبية</td>\n",
       "    </tr>\n",
       "    <tr>\n",
       "      <th>3</th>\n",
       "      <td>ابريل</td>\n",
       "      <td>27270240.0</td>\n",
       "      <td>7853.58</td>\n",
       "      <td>17.0</td>\n",
       "      <td>159589031.0</td>\n",
       "      <td>16565.64</td>\n",
       "      <td>41.0</td>\n",
       "      <td>600000.0</td>\n",
       "      <td>108.14</td>\n",
       "      <td>1.0</td>\n",
       "      <td>12790000.0</td>\n",
       "      <td>2403.600</td>\n",
       "      <td>6.0</td>\n",
       "      <td>أبحر الجنوبية</td>\n",
       "    </tr>\n",
       "    <tr>\n",
       "      <th>4</th>\n",
       "      <td>مايو</td>\n",
       "      <td>23740563.0</td>\n",
       "      <td>9818.15</td>\n",
       "      <td>13.0</td>\n",
       "      <td>90380344.0</td>\n",
       "      <td>13034.93</td>\n",
       "      <td>31.0</td>\n",
       "      <td>2400000.0</td>\n",
       "      <td>1000.00</td>\n",
       "      <td>1.0</td>\n",
       "      <td>0.0</td>\n",
       "      <td>0.000</td>\n",
       "      <td>0.0</td>\n",
       "      <td>أبحر الجنوبية</td>\n",
       "    </tr>\n",
       "  </tbody>\n",
       "</table>\n",
       "</div>"
      ],
      "text/plain": [
       "    month     price18    area18  deals18      price19    area19  deals19  \\\n",
       "0   يناير  82474372.0  20949.04     26.0   76425053.0  18349.17     14.0   \n",
       "1  فبراير  42753205.0  12862.65     13.0   59691746.0  18295.10     16.0   \n",
       "2    مارس  17849786.0   6404.82     13.0   64456882.0  12533.05     22.0   \n",
       "3   ابريل  27270240.0   7853.58     17.0  159589031.0  16565.64     41.0   \n",
       "4    مايو  23740563.0   9818.15     13.0   90380344.0  13034.93     31.0   \n",
       "\n",
       "      price20    area20  deals20      price21     area21  deals21  \\\n",
       "0  25681391.0   4839.19      8.0   58205357.0  10914.390     17.0   \n",
       "1  45600693.0  10788.22     17.0  134565318.0  37320.710     58.0   \n",
       "2   9664666.0   3129.02      8.0   16453446.0   5175.949     10.0   \n",
       "3    600000.0    108.14      1.0   12790000.0   2403.600      6.0   \n",
       "4   2400000.0   1000.00      1.0          0.0      0.000      0.0   \n",
       "\n",
       "        district  \n",
       "0  أبحر الجنوبية  \n",
       "1  أبحر الجنوبية  \n",
       "2  أبحر الجنوبية  \n",
       "3  أبحر الجنوبية  \n",
       "4  أبحر الجنوبية  "
      ]
     },
     "execution_count": 169,
     "metadata": {},
     "output_type": "execute_result"
    }
   ],
   "source": [
    "df = pd.read_excel('jeddah..xlsx')\n",
    "\n",
    "df.head()"
   ]
  },
  {
   "cell_type": "code",
   "execution_count": 57,
   "id": "fbff3d03",
   "metadata": {},
   "outputs": [],
   "source": [
    "xx= []\n",
    "for item in df.district.values:\n",
    "    xx.append(get_display(arabic_reshaper.reshape(item)))"
   ]
  },
  {
   "cell_type": "code",
   "execution_count": 58,
   "id": "b85b5fea",
   "metadata": {},
   "outputs": [],
   "source": [
    "df['district2']=xx"
   ]
  },
  {
   "cell_type": "code",
   "execution_count": 59,
   "id": "8931d55b",
   "metadata": {
    "scrolled": true
   },
   "outputs": [
    {
     "data": {
      "text/plain": [
       "(1571, 15)"
      ]
     },
     "execution_count": 59,
     "metadata": {},
     "output_type": "execute_result"
    }
   ],
   "source": [
    "# show shape\n",
    "df.shape"
   ]
  },
  {
   "cell_type": "code",
   "execution_count": 60,
   "id": "4441ba42",
   "metadata": {
    "scrolled": false
   },
   "outputs": [
    {
     "name": "stdout",
     "output_type": "stream",
     "text": [
      "<class 'pandas.core.frame.DataFrame'>\n",
      "RangeIndex: 1571 entries, 0 to 1570\n",
      "Data columns (total 15 columns):\n",
      " #   Column     Non-Null Count  Dtype  \n",
      "---  ------     --------------  -----  \n",
      " 0   month      1571 non-null   object \n",
      " 1   price18    1544 non-null   float64\n",
      " 2   area18     1544 non-null   float64\n",
      " 3   deals18    1539 non-null   float64\n",
      " 4   price19    1534 non-null   float64\n",
      " 5   area19     1537 non-null   float64\n",
      " 6   deals19    1537 non-null   float64\n",
      " 7   price20    1534 non-null   float64\n",
      " 8   area20     1532 non-null   float64\n",
      " 9   deals20    1530 non-null   float64\n",
      " 10  price21    1553 non-null   float64\n",
      " 11  area21     1552 non-null   float64\n",
      " 12  deals21    1551 non-null   float64\n",
      " 13  district   1571 non-null   object \n",
      " 14  district2  1571 non-null   object \n",
      "dtypes: float64(12), object(3)\n",
      "memory usage: 184.2+ KB\n"
     ]
    }
   ],
   "source": [
    "# show types of columns\n",
    "df.info()"
   ]
  },
  {
   "cell_type": "code",
   "execution_count": 61,
   "id": "1211d6d9",
   "metadata": {},
   "outputs": [
    {
     "data": {
      "text/html": [
       "<div>\n",
       "<style scoped>\n",
       "    .dataframe tbody tr th:only-of-type {\n",
       "        vertical-align: middle;\n",
       "    }\n",
       "\n",
       "    .dataframe tbody tr th {\n",
       "        vertical-align: top;\n",
       "    }\n",
       "\n",
       "    .dataframe thead th {\n",
       "        text-align: right;\n",
       "    }\n",
       "</style>\n",
       "<table border=\"1\" class=\"dataframe\">\n",
       "  <thead>\n",
       "    <tr style=\"text-align: right;\">\n",
       "      <th></th>\n",
       "      <th>price18</th>\n",
       "      <th>area18</th>\n",
       "      <th>deals18</th>\n",
       "      <th>price19</th>\n",
       "      <th>area19</th>\n",
       "      <th>deals19</th>\n",
       "      <th>price20</th>\n",
       "      <th>area20</th>\n",
       "      <th>deals20</th>\n",
       "      <th>price21</th>\n",
       "      <th>area21</th>\n",
       "      <th>deals21</th>\n",
       "    </tr>\n",
       "  </thead>\n",
       "  <tbody>\n",
       "    <tr>\n",
       "      <th>count</th>\n",
       "      <td>1.544000e+03</td>\n",
       "      <td>1.544000e+03</td>\n",
       "      <td>1539.000000</td>\n",
       "      <td>1.534000e+03</td>\n",
       "      <td>1.537000e+03</td>\n",
       "      <td>1537.000000</td>\n",
       "      <td>1.534000e+03</td>\n",
       "      <td>1532.000000</td>\n",
       "      <td>1530.000000</td>\n",
       "      <td>1.553000e+03</td>\n",
       "      <td>1552.000000</td>\n",
       "      <td>1551.000000</td>\n",
       "    </tr>\n",
       "    <tr>\n",
       "      <th>mean</th>\n",
       "      <td>1.242815e+07</td>\n",
       "      <td>1.115368e+04</td>\n",
       "      <td>11.708252</td>\n",
       "      <td>1.614921e+07</td>\n",
       "      <td>1.212012e+04</td>\n",
       "      <td>17.464541</td>\n",
       "      <td>1.685173e+07</td>\n",
       "      <td>13615.377621</td>\n",
       "      <td>17.669281</td>\n",
       "      <td>7.287067e+06</td>\n",
       "      <td>6007.681334</td>\n",
       "      <td>7.385558</td>\n",
       "    </tr>\n",
       "    <tr>\n",
       "      <th>std</th>\n",
       "      <td>4.975215e+07</td>\n",
       "      <td>9.691994e+04</td>\n",
       "      <td>20.950713</td>\n",
       "      <td>4.034748e+07</td>\n",
       "      <td>5.320613e+04</td>\n",
       "      <td>31.486091</td>\n",
       "      <td>4.491626e+07</td>\n",
       "      <td>34795.114520</td>\n",
       "      <td>33.402638</td>\n",
       "      <td>3.104802e+07</td>\n",
       "      <td>23784.716481</td>\n",
       "      <td>25.701505</td>\n",
       "    </tr>\n",
       "    <tr>\n",
       "      <th>min</th>\n",
       "      <td>0.000000e+00</td>\n",
       "      <td>0.000000e+00</td>\n",
       "      <td>0.000000</td>\n",
       "      <td>0.000000e+00</td>\n",
       "      <td>0.000000e+00</td>\n",
       "      <td>0.000000</td>\n",
       "      <td>0.000000e+00</td>\n",
       "      <td>0.000000</td>\n",
       "      <td>0.000000</td>\n",
       "      <td>0.000000e+00</td>\n",
       "      <td>0.000000</td>\n",
       "      <td>0.000000</td>\n",
       "    </tr>\n",
       "    <tr>\n",
       "      <th>25%</th>\n",
       "      <td>1.500000e+05</td>\n",
       "      <td>1.843900e+02</td>\n",
       "      <td>1.000000</td>\n",
       "      <td>8.500000e+05</td>\n",
       "      <td>8.288300e+02</td>\n",
       "      <td>2.000000</td>\n",
       "      <td>9.452500e+05</td>\n",
       "      <td>826.717500</td>\n",
       "      <td>2.000000</td>\n",
       "      <td>0.000000e+00</td>\n",
       "      <td>0.000000</td>\n",
       "      <td>0.000000</td>\n",
       "    </tr>\n",
       "    <tr>\n",
       "      <th>50%</th>\n",
       "      <td>3.843750e+06</td>\n",
       "      <td>2.393110e+03</td>\n",
       "      <td>4.000000</td>\n",
       "      <td>5.580576e+06</td>\n",
       "      <td>3.709210e+03</td>\n",
       "      <td>6.000000</td>\n",
       "      <td>4.377908e+06</td>\n",
       "      <td>3332.350000</td>\n",
       "      <td>6.000000</td>\n",
       "      <td>0.000000e+00</td>\n",
       "      <td>0.000000</td>\n",
       "      <td>0.000000</td>\n",
       "    </tr>\n",
       "    <tr>\n",
       "      <th>75%</th>\n",
       "      <td>1.379384e+07</td>\n",
       "      <td>7.918686e+03</td>\n",
       "      <td>13.000000</td>\n",
       "      <td>1.913972e+07</td>\n",
       "      <td>1.200000e+04</td>\n",
       "      <td>19.000000</td>\n",
       "      <td>1.835741e+07</td>\n",
       "      <td>11651.162500</td>\n",
       "      <td>18.000000</td>\n",
       "      <td>1.700000e+06</td>\n",
       "      <td>1607.885000</td>\n",
       "      <td>3.000000</td>\n",
       "    </tr>\n",
       "    <tr>\n",
       "      <th>max</th>\n",
       "      <td>1.749939e+09</td>\n",
       "      <td>3.129290e+06</td>\n",
       "      <td>280.000000</td>\n",
       "      <td>1.000000e+09</td>\n",
       "      <td>1.892122e+06</td>\n",
       "      <td>406.000000</td>\n",
       "      <td>1.163332e+09</td>\n",
       "      <td>724442.470000</td>\n",
       "      <td>398.000000</td>\n",
       "      <td>9.941224e+08</td>\n",
       "      <td>349084.830000</td>\n",
       "      <td>437.000000</td>\n",
       "    </tr>\n",
       "  </tbody>\n",
       "</table>\n",
       "</div>"
      ],
      "text/plain": [
       "            price18        area18      deals18       price19        area19  \\\n",
       "count  1.544000e+03  1.544000e+03  1539.000000  1.534000e+03  1.537000e+03   \n",
       "mean   1.242815e+07  1.115368e+04    11.708252  1.614921e+07  1.212012e+04   \n",
       "std    4.975215e+07  9.691994e+04    20.950713  4.034748e+07  5.320613e+04   \n",
       "min    0.000000e+00  0.000000e+00     0.000000  0.000000e+00  0.000000e+00   \n",
       "25%    1.500000e+05  1.843900e+02     1.000000  8.500000e+05  8.288300e+02   \n",
       "50%    3.843750e+06  2.393110e+03     4.000000  5.580576e+06  3.709210e+03   \n",
       "75%    1.379384e+07  7.918686e+03    13.000000  1.913972e+07  1.200000e+04   \n",
       "max    1.749939e+09  3.129290e+06   280.000000  1.000000e+09  1.892122e+06   \n",
       "\n",
       "           deals19       price20         area20      deals20       price21  \\\n",
       "count  1537.000000  1.534000e+03    1532.000000  1530.000000  1.553000e+03   \n",
       "mean     17.464541  1.685173e+07   13615.377621    17.669281  7.287067e+06   \n",
       "std      31.486091  4.491626e+07   34795.114520    33.402638  3.104802e+07   \n",
       "min       0.000000  0.000000e+00       0.000000     0.000000  0.000000e+00   \n",
       "25%       2.000000  9.452500e+05     826.717500     2.000000  0.000000e+00   \n",
       "50%       6.000000  4.377908e+06    3332.350000     6.000000  0.000000e+00   \n",
       "75%      19.000000  1.835741e+07   11651.162500    18.000000  1.700000e+06   \n",
       "max     406.000000  1.163332e+09  724442.470000   398.000000  9.941224e+08   \n",
       "\n",
       "              area21      deals21  \n",
       "count    1552.000000  1551.000000  \n",
       "mean     6007.681334     7.385558  \n",
       "std     23784.716481    25.701505  \n",
       "min         0.000000     0.000000  \n",
       "25%         0.000000     0.000000  \n",
       "50%         0.000000     0.000000  \n",
       "75%      1607.885000     3.000000  \n",
       "max    349084.830000   437.000000  "
      ]
     },
     "execution_count": 61,
     "metadata": {},
     "output_type": "execute_result"
    }
   ],
   "source": [
    "df.describe()"
   ]
  },
  {
   "cell_type": "code",
   "execution_count": 62,
   "id": "63b68d9e",
   "metadata": {},
   "outputs": [
    {
     "data": {
      "text/plain": [
       "month         0\n",
       "price18      27\n",
       "area18       27\n",
       "deals18      32\n",
       "price19      37\n",
       "area19       34\n",
       "deals19      34\n",
       "price20      37\n",
       "area20       39\n",
       "deals20      41\n",
       "price21      18\n",
       "area21       19\n",
       "deals21      20\n",
       "district      0\n",
       "district2     0\n",
       "dtype: int64"
      ]
     },
     "execution_count": 62,
     "metadata": {},
     "output_type": "execute_result"
    }
   ],
   "source": [
    "# check the Null values\n",
    "df.isnull().sum()"
   ]
  },
  {
   "cell_type": "code",
   "execution_count": 63,
   "id": "65424746",
   "metadata": {
    "scrolled": false
   },
   "outputs": [
    {
     "data": {
      "text/plain": [
       "month         0\n",
       "price18      27\n",
       "area18       27\n",
       "deals18      32\n",
       "price19      37\n",
       "area19       34\n",
       "deals19      34\n",
       "price20      37\n",
       "area20       39\n",
       "deals20      41\n",
       "price21      18\n",
       "area21       19\n",
       "deals21      20\n",
       "district      0\n",
       "district2     0\n",
       "dtype: int64"
      ]
     },
     "execution_count": 63,
     "metadata": {},
     "output_type": "execute_result"
    }
   ],
   "source": [
    "# check the Null values\n",
    "df.isna().sum()"
   ]
  },
  {
   "cell_type": "code",
   "execution_count": 64,
   "id": "f225ba3c",
   "metadata": {
    "scrolled": true
   },
   "outputs": [
    {
     "data": {
      "text/plain": [
       "الجامعيين              13\n",
       "الامير فواز الجنوبى    13\n",
       "أبحر الجنوبية          12\n",
       "الفلاح                 12\n",
       "المنار                 12\n",
       "                       ..\n",
       "مارس                    1\n",
       "نوفمبر                  1\n",
       "فبراير                  1\n",
       "يناير                   1\n",
       "ديسمبر                  1\n",
       "Name: district, Length: 144, dtype: int64"
      ]
     },
     "execution_count": 64,
     "metadata": {},
     "output_type": "execute_result"
    }
   ],
   "source": [
    "# show most district duplicated in the dataset.\n",
    "df['district'].value_counts()"
   ]
  },
  {
   "cell_type": "code",
   "execution_count": 65,
   "id": "0cacce82",
   "metadata": {},
   "outputs": [],
   "source": [
    "df.fillna(0, inplace=True)"
   ]
  },
  {
   "cell_type": "code",
   "execution_count": 66,
   "id": "27a482b6",
   "metadata": {},
   "outputs": [
    {
     "data": {
      "text/plain": [
       "month        0\n",
       "price18      0\n",
       "area18       0\n",
       "deals18      0\n",
       "price19      0\n",
       "area19       0\n",
       "deals19      0\n",
       "price20      0\n",
       "area20       0\n",
       "deals20      0\n",
       "price21      0\n",
       "area21       0\n",
       "deals21      0\n",
       "district     0\n",
       "district2    0\n",
       "dtype: int64"
      ]
     },
     "execution_count": 66,
     "metadata": {},
     "output_type": "execute_result"
    }
   ],
   "source": [
    "# check the Null values\n",
    "df.isna().sum()"
   ]
  },
  {
   "cell_type": "code",
   "execution_count": 67,
   "id": "b4db7045",
   "metadata": {
    "scrolled": true
   },
   "outputs": [
    {
     "data": {
      "text/plain": [
       "array(['أبحر الجنوبية', 'أم حبلين', 'أم سدرة', 'ابحر الشمالية', 'يناير',\n",
       "       'فبراير', 'مارس', 'ابريل', 'يونيو', 'يوليو', 'اوغسطس', 'سبتمبر',\n",
       "       'اكتوبر', 'نوفمبر', 'ديسمبر', 'الأمير عبد المجيد', 'الاجاويد',\n",
       "       'الاجواد', 'الاصالة', 'الامواج', 'الامير فواز الجنوبى',\n",
       "       'الامير فواز بن عبدالعزيز', 'الاندلس', 'البحيرات', 'البساتين',\n",
       "       'البشائر', 'البغدادية', 'البغدادية الشرقية', 'البغدادية الغربية',\n",
       "       'البلد', 'البوادر', 'البوادى', 'البيان', 'الثعالبه', 'الثغر',\n",
       "       'الجامعة', 'الجامعيين', 'الجزيرة', 'الجوهرة', 'الحمدانية',\n",
       "       'الحمراء', 'الخالدية', 'الخليج', 'الخمرة', 'الدرة', 'الربوة',\n",
       "       'الرحاب', 'الرحمانية', 'الرغامة', 'الروابى', 'الروضة', 'الرويس',\n",
       "       'الرياض', 'الريان', 'الزمرد', 'الزهراء', 'الزهور', 'الساحل',\n",
       "       'السامر', 'السبيل', 'السروات', 'السرور', 'السلامة', 'السليمانية',\n",
       "       'السنابل', 'الشاطئ', 'الشراع', 'الشرفية', 'الشويضى', 'الصالحية',\n",
       "       'الصحيفة', 'الصفا', 'الصفوة', 'الصوارى', 'العبير', 'العدل',\n",
       "       'العزيزية', 'العشيرية', 'العمارية', 'الغدير', 'الفردوس', 'الفرقان',\n",
       "       'الفروسية', 'الفضل', 'الفضيلة', 'الفلاح', 'الفنار', 'الفيحاء',\n",
       "       'الفيصلية', 'القريات', 'القرينية', 'الكندرة', 'الكوثر', 'اللؤلؤ',\n",
       "       'المجد', 'المحجر', 'المحمدية', 'المرجان', 'المروة', 'المروج',\n",
       "       'المشرفة', 'المصفاة', 'المنار', 'المنارات', 'المنتزهات', 'النجمة',\n",
       "       'النخيل', 'الندى', 'النزلة الشرقية', 'النزلة اليمانية', 'النزهة',\n",
       "       'النسيم', 'النعيم', 'النهضة', 'النور', 'الهجرة', 'الهدا', 'الهلال',\n",
       "       'الهنداوية', 'الواحة', 'الوادى', 'الوداد', 'الورود', 'الوفاء',\n",
       "       'الياقوت', 'اليسر', 'ام السلم', 'بترومين', 'بريمان', 'بنى مالك',\n",
       "       'ثول', 'جوهرة العروس', 'جوهرة ثول', 'خليج سلمان', 'درة العروس',\n",
       "       'ذهبان', 'شرق الخط السريع', 'طيبة', 'عنيكش', 'غليل', 'قباء',\n",
       "       'مدائن الفهد', 'مريخ', 'مشرفة'], dtype=object)"
      ]
     },
     "execution_count": 67,
     "metadata": {},
     "output_type": "execute_result"
    }
   ],
   "source": [
    "# Now, we have 127 district, it will be different after outliers removing\n",
    "df['district'].unique()"
   ]
  },
  {
   "cell_type": "markdown",
   "id": "854c1a0d",
   "metadata": {},
   "source": [
    "# Some analysis on dataset in 2018,2019,2020,2021 years."
   ]
  },
  {
   "cell_type": "code",
   "execution_count": 68,
   "id": "ae080a2b",
   "metadata": {},
   "outputs": [],
   "source": [
    "# let's see the price & size avarege per district\n",
    "\n",
    "avg = df.groupby('district2').mean()"
   ]
  },
  {
   "cell_type": "code",
   "execution_count": 69,
   "id": "3b306b27",
   "metadata": {},
   "outputs": [],
   "source": [
    "avg_per_district = pd.DataFrame.from_dict(avg)"
   ]
  },
  {
   "cell_type": "code",
   "execution_count": 70,
   "id": "103314fd",
   "metadata": {},
   "outputs": [],
   "source": [
    "avg_per_district['district2'] = avg_per_district.index\n"
   ]
  },
  {
   "cell_type": "code",
   "execution_count": 71,
   "id": "2a3b6f6c",
   "metadata": {
    "scrolled": false
   },
   "outputs": [
    {
     "data": {
      "text/html": [
       "<div>\n",
       "<style scoped>\n",
       "    .dataframe tbody tr th:only-of-type {\n",
       "        vertical-align: middle;\n",
       "    }\n",
       "\n",
       "    .dataframe tbody tr th {\n",
       "        vertical-align: top;\n",
       "    }\n",
       "\n",
       "    .dataframe thead th {\n",
       "        text-align: right;\n",
       "    }\n",
       "</style>\n",
       "<table border=\"1\" class=\"dataframe\">\n",
       "  <thead>\n",
       "    <tr style=\"text-align: right;\">\n",
       "      <th></th>\n",
       "      <th>price18</th>\n",
       "      <th>area18</th>\n",
       "      <th>deals18</th>\n",
       "      <th>price19</th>\n",
       "      <th>area19</th>\n",
       "      <th>deals19</th>\n",
       "      <th>price20</th>\n",
       "      <th>area20</th>\n",
       "      <th>deals20</th>\n",
       "      <th>price21</th>\n",
       "      <th>area21</th>\n",
       "      <th>deals21</th>\n",
       "    </tr>\n",
       "    <tr>\n",
       "      <th>district2</th>\n",
       "      <th></th>\n",
       "      <th></th>\n",
       "      <th></th>\n",
       "      <th></th>\n",
       "      <th></th>\n",
       "      <th></th>\n",
       "      <th></th>\n",
       "      <th></th>\n",
       "      <th></th>\n",
       "      <th></th>\n",
       "      <th></th>\n",
       "      <th></th>\n",
       "    </tr>\n",
       "  </thead>\n",
       "  <tbody>\n",
       "    <tr>\n",
       "      <th>ﺀﺍﺮﻤﺤﻟﺍ</th>\n",
       "      <td>3.355743e+07</td>\n",
       "      <td>4285.395000</td>\n",
       "      <td>6.250000</td>\n",
       "      <td>4.316303e+07</td>\n",
       "      <td>5519.997917</td>\n",
       "      <td>5.583333</td>\n",
       "      <td>9.181786e+06</td>\n",
       "      <td>1760.566667</td>\n",
       "      <td>4.083333</td>\n",
       "      <td>2.434038e+07</td>\n",
       "      <td>1778.128333</td>\n",
       "      <td>2.083333</td>\n",
       "    </tr>\n",
       "    <tr>\n",
       "      <th>ﺀﺍﺮﻫﺰﻟﺍ</th>\n",
       "      <td>2.811448e+07</td>\n",
       "      <td>10437.369500</td>\n",
       "      <td>12.500000</td>\n",
       "      <td>4.064280e+07</td>\n",
       "      <td>8158.190750</td>\n",
       "      <td>12.583333</td>\n",
       "      <td>2.355656e+07</td>\n",
       "      <td>6392.071417</td>\n",
       "      <td>10.750000</td>\n",
       "      <td>1.330070e+07</td>\n",
       "      <td>2417.147500</td>\n",
       "      <td>3.500000</td>\n",
       "    </tr>\n",
       "    <tr>\n",
       "      <th>ﺀﺎﺒﻗ</th>\n",
       "      <td>7.509167e+05</td>\n",
       "      <td>527.127500</td>\n",
       "      <td>0.583333</td>\n",
       "      <td>1.400833e+06</td>\n",
       "      <td>1815.800000</td>\n",
       "      <td>1.583333</td>\n",
       "      <td>1.504125e+06</td>\n",
       "      <td>1097.127500</td>\n",
       "      <td>1.250000</td>\n",
       "      <td>2.250000e+05</td>\n",
       "      <td>193.424167</td>\n",
       "      <td>0.166667</td>\n",
       "    </tr>\n",
       "    <tr>\n",
       "      <th>ﺀﺎﺤﻴﻔﻟﺍ</th>\n",
       "      <td>9.154166e+06</td>\n",
       "      <td>1882.965833</td>\n",
       "      <td>3.666667</td>\n",
       "      <td>6.997329e+07</td>\n",
       "      <td>17846.553083</td>\n",
       "      <td>7.166667</td>\n",
       "      <td>1.396469e+07</td>\n",
       "      <td>3973.741083</td>\n",
       "      <td>5.833333</td>\n",
       "      <td>2.361127e+07</td>\n",
       "      <td>6546.709167</td>\n",
       "      <td>7.583333</td>\n",
       "    </tr>\n",
       "    <tr>\n",
       "      <th>ﺀﺎﻓﻮﻟﺍ</th>\n",
       "      <td>6.405915e+06</td>\n",
       "      <td>14437.691667</td>\n",
       "      <td>19.333333</td>\n",
       "      <td>1.639930e+07</td>\n",
       "      <td>30207.186667</td>\n",
       "      <td>40.000000</td>\n",
       "      <td>1.597489e+07</td>\n",
       "      <td>27686.703500</td>\n",
       "      <td>34.000000</td>\n",
       "      <td>1.051091e+07</td>\n",
       "      <td>13896.503333</td>\n",
       "      <td>20.083333</td>\n",
       "    </tr>\n",
       "    <tr>\n",
       "      <th>ﺆﻟﺆﻠﻟﺍ</th>\n",
       "      <td>1.111330e+07</td>\n",
       "      <td>6866.271333</td>\n",
       "      <td>15.416667</td>\n",
       "      <td>1.763529e+07</td>\n",
       "      <td>11077.148333</td>\n",
       "      <td>20.083333</td>\n",
       "      <td>2.526384e+07</td>\n",
       "      <td>13229.380833</td>\n",
       "      <td>26.750000</td>\n",
       "      <td>1.454215e+07</td>\n",
       "      <td>4667.631667</td>\n",
       "      <td>7.250000</td>\n",
       "    </tr>\n",
       "    <tr>\n",
       "      <th>ﺊﻃﺎﺸﻟﺍ</th>\n",
       "      <td>5.265979e+07</td>\n",
       "      <td>8275.270000</td>\n",
       "      <td>12.750000</td>\n",
       "      <td>8.913137e+07</td>\n",
       "      <td>11541.151667</td>\n",
       "      <td>22.333333</td>\n",
       "      <td>8.410486e+07</td>\n",
       "      <td>14350.758750</td>\n",
       "      <td>16.583333</td>\n",
       "      <td>1.403357e+07</td>\n",
       "      <td>2285.484833</td>\n",
       "      <td>3.250000</td>\n",
       "    </tr>\n",
       "    <tr>\n",
       "      <th>ﺍﺪﻬﻟﺍ</th>\n",
       "      <td>3.440128e+06</td>\n",
       "      <td>2405.185833</td>\n",
       "      <td>4.666667</td>\n",
       "      <td>6.176632e+06</td>\n",
       "      <td>4933.555833</td>\n",
       "      <td>8.250000</td>\n",
       "      <td>4.738668e+06</td>\n",
       "      <td>4058.570000</td>\n",
       "      <td>6.333333</td>\n",
       "      <td>1.581993e+06</td>\n",
       "      <td>1241.756667</td>\n",
       "      <td>2.083333</td>\n",
       "    </tr>\n",
       "    <tr>\n",
       "      <th>ﺎﻔﺼﻟﺍ</th>\n",
       "      <td>3.728071e+07</td>\n",
       "      <td>11927.879167</td>\n",
       "      <td>37.750000</td>\n",
       "      <td>6.347602e+07</td>\n",
       "      <td>21777.065283</td>\n",
       "      <td>76.166667</td>\n",
       "      <td>8.473821e+07</td>\n",
       "      <td>22200.973750</td>\n",
       "      <td>44.833333</td>\n",
       "      <td>2.253863e+07</td>\n",
       "      <td>6511.195383</td>\n",
       "      <td>17.083333</td>\n",
       "    </tr>\n",
       "    <tr>\n",
       "      <th>ﺏﺎﺣﺮﻟﺍ</th>\n",
       "      <td>1.020241e+07</td>\n",
       "      <td>3224.889167</td>\n",
       "      <td>5.500000</td>\n",
       "      <td>1.382804e+07</td>\n",
       "      <td>4830.810833</td>\n",
       "      <td>6.000000</td>\n",
       "      <td>9.205800e+06</td>\n",
       "      <td>3385.323417</td>\n",
       "      <td>5.166667</td>\n",
       "      <td>5.559290e+06</td>\n",
       "      <td>1698.635833</td>\n",
       "      <td>1.916667</td>\n",
       "    </tr>\n",
       "  </tbody>\n",
       "</table>\n",
       "</div>"
      ],
      "text/plain": [
       "                price18        area18    deals18       price19        area19  \\\n",
       "district2                                                                      \n",
       "ﺀﺍﺮﻤﺤﻟﺍ    3.355743e+07   4285.395000   6.250000  4.316303e+07   5519.997917   \n",
       "ﺀﺍﺮﻫﺰﻟﺍ    2.811448e+07  10437.369500  12.500000  4.064280e+07   8158.190750   \n",
       "ﺀﺎﺒﻗ       7.509167e+05    527.127500   0.583333  1.400833e+06   1815.800000   \n",
       "ﺀﺎﺤﻴﻔﻟﺍ    9.154166e+06   1882.965833   3.666667  6.997329e+07  17846.553083   \n",
       "ﺀﺎﻓﻮﻟﺍ     6.405915e+06  14437.691667  19.333333  1.639930e+07  30207.186667   \n",
       "ﺆﻟﺆﻠﻟﺍ     1.111330e+07   6866.271333  15.416667  1.763529e+07  11077.148333   \n",
       "ﺊﻃﺎﺸﻟﺍ     5.265979e+07   8275.270000  12.750000  8.913137e+07  11541.151667   \n",
       "ﺍﺪﻬﻟﺍ      3.440128e+06   2405.185833   4.666667  6.176632e+06   4933.555833   \n",
       "ﺎﻔﺼﻟﺍ      3.728071e+07  11927.879167  37.750000  6.347602e+07  21777.065283   \n",
       "ﺏﺎﺣﺮﻟﺍ     1.020241e+07   3224.889167   5.500000  1.382804e+07   4830.810833   \n",
       "\n",
       "             deals19       price20        area20    deals20       price21  \\\n",
       "district2                                                                   \n",
       "ﺀﺍﺮﻤﺤﻟﺍ     5.583333  9.181786e+06   1760.566667   4.083333  2.434038e+07   \n",
       "ﺀﺍﺮﻫﺰﻟﺍ    12.583333  2.355656e+07   6392.071417  10.750000  1.330070e+07   \n",
       "ﺀﺎﺒﻗ        1.583333  1.504125e+06   1097.127500   1.250000  2.250000e+05   \n",
       "ﺀﺎﺤﻴﻔﻟﺍ     7.166667  1.396469e+07   3973.741083   5.833333  2.361127e+07   \n",
       "ﺀﺎﻓﻮﻟﺍ     40.000000  1.597489e+07  27686.703500  34.000000  1.051091e+07   \n",
       "ﺆﻟﺆﻠﻟﺍ     20.083333  2.526384e+07  13229.380833  26.750000  1.454215e+07   \n",
       "ﺊﻃﺎﺸﻟﺍ     22.333333  8.410486e+07  14350.758750  16.583333  1.403357e+07   \n",
       "ﺍﺪﻬﻟﺍ       8.250000  4.738668e+06   4058.570000   6.333333  1.581993e+06   \n",
       "ﺎﻔﺼﻟﺍ      76.166667  8.473821e+07  22200.973750  44.833333  2.253863e+07   \n",
       "ﺏﺎﺣﺮﻟﺍ      6.000000  9.205800e+06   3385.323417   5.166667  5.559290e+06   \n",
       "\n",
       "                 area21    deals21  \n",
       "district2                           \n",
       "ﺀﺍﺮﻤﺤﻟﺍ     1778.128333   2.083333  \n",
       "ﺀﺍﺮﻫﺰﻟﺍ     2417.147500   3.500000  \n",
       "ﺀﺎﺒﻗ         193.424167   0.166667  \n",
       "ﺀﺎﺤﻴﻔﻟﺍ     6546.709167   7.583333  \n",
       "ﺀﺎﻓﻮﻟﺍ     13896.503333  20.083333  \n",
       "ﺆﻟﺆﻠﻟﺍ      4667.631667   7.250000  \n",
       "ﺊﻃﺎﺸﻟﺍ      2285.484833   3.250000  \n",
       "ﺍﺪﻬﻟﺍ       1241.756667   2.083333  \n",
       "ﺎﻔﺼﻟﺍ       6511.195383  17.083333  \n",
       "ﺏﺎﺣﺮﻟﺍ      1698.635833   1.916667  "
      ]
     },
     "execution_count": 71,
     "metadata": {},
     "output_type": "execute_result"
    }
   ],
   "source": [
    "price_mean = df.groupby('district2').mean()\n",
    "price_mean.head(10)"
   ]
  },
  {
   "cell_type": "markdown",
   "id": "e48caf60",
   "metadata": {},
   "source": [
    "# 2018"
   ]
  },
  {
   "cell_type": "code",
   "execution_count": 72,
   "id": "69449b4b",
   "metadata": {
    "scrolled": true
   },
   "outputs": [
    {
     "data": {
      "image/png": "[encoded data removed]",
      "text/plain": [
       "<Figure size 432x288 with 1 Axes>"
      ]
     },
     "metadata": {
      "needs_background": "light"
     },
     "output_type": "display_data"
    }
   ],
   "source": [
    "# size avarege per district\n",
    "\n",
    "\n",
    "\n",
    "avg_per_district['district2'] = avg_per_district.index\n",
    "\n",
    "sns.barplot(data=avg_per_district.nlargest(n=5, columns='area18'), x='district2', y=\"area18\")\n",
    "plt.title('homes size avg per district')\n",
    "plt.xlabel('district')\n",
    "plt.ylabel('avg size')\n",
    "plt.show()"
   ]
  },
  {
   "cell_type": "code",
   "execution_count": 73,
   "id": "7c3110db",
   "metadata": {
    "scrolled": true
   },
   "outputs": [
    {
     "data": {
      "image/png": "[encoded data removed]",
      "text/plain": [
       "<Figure size 432x288 with 1 Axes>"
      ]
     },
     "metadata": {
      "needs_background": "light"
     },
     "output_type": "display_data"
    }
   ],
   "source": [
    "# price avarege per district\n",
    "avg_per_district['district2'] = avg_per_district.index\n",
    "\n",
    "sns.barplot(data=avg_per_district.nlargest(n=5, columns='price18'), x=\"district2\", y=\"price18\")\n",
    "plt.title('avg of homes prices of 2018 per district')\n",
    "plt.xlabel('district')\n",
    "plt.ylabel('avg price')\n",
    "plt.show()"
   ]
  },
  {
   "cell_type": "code",
   "execution_count": 74,
   "id": "dd8dc02c",
   "metadata": {
    "scrolled": true
   },
   "outputs": [
    {
     "data": {
      "text/plain": [
       "0.0"
      ]
     },
     "execution_count": 74,
     "metadata": {},
     "output_type": "execute_result"
    }
   ],
   "source": [
    "# Lowest price in 2018\n",
    "df['price18'].min()"
   ]
  },
  {
   "cell_type": "code",
   "execution_count": 75,
   "id": "80bced7a",
   "metadata": {},
   "outputs": [
    {
     "data": {
      "text/plain": [
       "1749939449.0"
      ]
     },
     "execution_count": 75,
     "metadata": {},
     "output_type": "execute_result"
    }
   ],
   "source": [
    "# Highest price in 2018\n",
    "df['price18'].max()"
   ]
  },
  {
   "cell_type": "code",
   "execution_count": 76,
   "id": "d9d01f2c",
   "metadata": {},
   "outputs": [
    {
     "data": {
      "text/plain": [
       "12214554.037555696"
      ]
     },
     "execution_count": 76,
     "metadata": {},
     "output_type": "execute_result"
    }
   ],
   "source": [
    "# Avg of all prices in 2018\n",
    "df['price18'].mean()"
   ]
  },
  {
   "cell_type": "code",
   "execution_count": 77,
   "id": "1febb763",
   "metadata": {
    "scrolled": true
   },
   "outputs": [
    {
     "data": {
      "text/plain": [
       "0.0"
      ]
     },
     "execution_count": 77,
     "metadata": {},
     "output_type": "execute_result"
    }
   ],
   "source": [
    "# Lowest size in the dataset\n",
    "df['area18'].min()"
   ]
  },
  {
   "cell_type": "code",
   "execution_count": 78,
   "id": "27b8aff6",
   "metadata": {},
   "outputs": [
    {
     "data": {
      "text/plain": [
       "3129290.41"
      ]
     },
     "execution_count": 78,
     "metadata": {},
     "output_type": "execute_result"
    }
   ],
   "source": [
    "# Highest size in t2018\n",
    "df['area18'].max()"
   ]
  },
  {
   "cell_type": "code",
   "execution_count": 79,
   "id": "e5bbf7e2",
   "metadata": {},
   "outputs": [
    {
     "data": {
      "text/plain": [
       "10961.987698408666"
      ]
     },
     "execution_count": 79,
     "metadata": {},
     "output_type": "execute_result"
    }
   ],
   "source": [
    "# Avg of all size values in 2018\n",
    "df['area18'].mean()"
   ]
  },
  {
   "cell_type": "code",
   "execution_count": 80,
   "id": "81a8ac45",
   "metadata": {
    "scrolled": true
   },
   "outputs": [
    {
     "data": {
      "text/html": [
       "<div>\n",
       "<style scoped>\n",
       "    .dataframe tbody tr th:only-of-type {\n",
       "        vertical-align: middle;\n",
       "    }\n",
       "\n",
       "    .dataframe tbody tr th {\n",
       "        vertical-align: top;\n",
       "    }\n",
       "\n",
       "    .dataframe thead th {\n",
       "        text-align: right;\n",
       "    }\n",
       "</style>\n",
       "<table border=\"1\" class=\"dataframe\">\n",
       "  <thead>\n",
       "    <tr style=\"text-align: right;\">\n",
       "      <th></th>\n",
       "      <th>price18</th>\n",
       "      <th>area18</th>\n",
       "      <th>deals18</th>\n",
       "      <th>price19</th>\n",
       "      <th>area19</th>\n",
       "      <th>deals19</th>\n",
       "      <th>price20</th>\n",
       "      <th>area20</th>\n",
       "      <th>deals20</th>\n",
       "      <th>price21</th>\n",
       "      <th>area21</th>\n",
       "      <th>deals21</th>\n",
       "    </tr>\n",
       "    <tr>\n",
       "      <th>district</th>\n",
       "      <th></th>\n",
       "      <th></th>\n",
       "      <th></th>\n",
       "      <th></th>\n",
       "      <th></th>\n",
       "      <th></th>\n",
       "      <th></th>\n",
       "      <th></th>\n",
       "      <th></th>\n",
       "      <th></th>\n",
       "      <th></th>\n",
       "      <th></th>\n",
       "    </tr>\n",
       "  </thead>\n",
       "  <tbody>\n",
       "    <tr>\n",
       "      <th>ابحر الشمالية</th>\n",
       "      <td>1.770370e+08</td>\n",
       "      <td>274420.572250</td>\n",
       "      <td>20.000000</td>\n",
       "      <td>3.885426e+07</td>\n",
       "      <td>17038.273333</td>\n",
       "      <td>26.000000</td>\n",
       "      <td>4.656326e+07</td>\n",
       "      <td>31058.673083</td>\n",
       "      <td>30.750000</td>\n",
       "      <td>3.006561e+07</td>\n",
       "      <td>14050.325000</td>\n",
       "      <td>15.833333</td>\n",
       "    </tr>\n",
       "    <tr>\n",
       "      <th>المحمدية</th>\n",
       "      <td>7.971655e+07</td>\n",
       "      <td>30220.912292</td>\n",
       "      <td>11.666667</td>\n",
       "      <td>3.169236e+07</td>\n",
       "      <td>7271.102833</td>\n",
       "      <td>12.750000</td>\n",
       "      <td>4.238335e+07</td>\n",
       "      <td>6883.940000</td>\n",
       "      <td>10.416667</td>\n",
       "      <td>8.994889e+07</td>\n",
       "      <td>17771.134167</td>\n",
       "      <td>5.333333</td>\n",
       "    </tr>\n",
       "    <tr>\n",
       "      <th>الوادى</th>\n",
       "      <td>5.656945e+07</td>\n",
       "      <td>261395.941364</td>\n",
       "      <td>2.545455</td>\n",
       "      <td>6.065110e+06</td>\n",
       "      <td>10166.706364</td>\n",
       "      <td>3.727273</td>\n",
       "      <td>4.704285e+06</td>\n",
       "      <td>7334.190000</td>\n",
       "      <td>1.636364</td>\n",
       "      <td>1.242227e+06</td>\n",
       "      <td>1667.418182</td>\n",
       "      <td>0.181818</td>\n",
       "    </tr>\n",
       "    <tr>\n",
       "      <th>المروة</th>\n",
       "      <td>5.446707e+07</td>\n",
       "      <td>18952.651583</td>\n",
       "      <td>81.000000</td>\n",
       "      <td>5.616839e+07</td>\n",
       "      <td>17060.140333</td>\n",
       "      <td>82.333333</td>\n",
       "      <td>4.425807e+07</td>\n",
       "      <td>13441.510633</td>\n",
       "      <td>54.750000</td>\n",
       "      <td>1.189858e+07</td>\n",
       "      <td>4087.011750</td>\n",
       "      <td>17.833333</td>\n",
       "    </tr>\n",
       "    <tr>\n",
       "      <th>الشاطئ</th>\n",
       "      <td>5.265979e+07</td>\n",
       "      <td>8275.270000</td>\n",
       "      <td>12.750000</td>\n",
       "      <td>8.913137e+07</td>\n",
       "      <td>11541.151667</td>\n",
       "      <td>22.333333</td>\n",
       "      <td>8.410486e+07</td>\n",
       "      <td>14350.758750</td>\n",
       "      <td>16.583333</td>\n",
       "      <td>1.403357e+07</td>\n",
       "      <td>2285.484833</td>\n",
       "      <td>3.250000</td>\n",
       "    </tr>\n",
       "  </tbody>\n",
       "</table>\n",
       "</div>"
      ],
      "text/plain": [
       "                    price18         area18    deals18       price19  \\\n",
       "district                                                              \n",
       "ابحر الشمالية  1.770370e+08  274420.572250  20.000000  3.885426e+07   \n",
       "المحمدية       7.971655e+07   30220.912292  11.666667  3.169236e+07   \n",
       "الوادى         5.656945e+07  261395.941364   2.545455  6.065110e+06   \n",
       "المروة         5.446707e+07   18952.651583  81.000000  5.616839e+07   \n",
       "الشاطئ         5.265979e+07    8275.270000  12.750000  8.913137e+07   \n",
       "\n",
       "                     area19    deals19       price20        area20    deals20  \\\n",
       "district                                                                        \n",
       "ابحر الشمالية  17038.273333  26.000000  4.656326e+07  31058.673083  30.750000   \n",
       "المحمدية        7271.102833  12.750000  4.238335e+07   6883.940000  10.416667   \n",
       "الوادى         10166.706364   3.727273  4.704285e+06   7334.190000   1.636364   \n",
       "المروة         17060.140333  82.333333  4.425807e+07  13441.510633  54.750000   \n",
       "الشاطئ         11541.151667  22.333333  8.410486e+07  14350.758750  16.583333   \n",
       "\n",
       "                    price21        area21    deals21  \n",
       "district                                              \n",
       "ابحر الشمالية  3.006561e+07  14050.325000  15.833333  \n",
       "المحمدية       8.994889e+07  17771.134167   5.333333  \n",
       "الوادى         1.242227e+06   1667.418182   0.181818  \n",
       "المروة         1.189858e+07   4087.011750  17.833333  \n",
       "الشاطئ         1.403357e+07   2285.484833   3.250000  "
      ]
     },
     "execution_count": 80,
     "metadata": {},
     "output_type": "execute_result"
    }
   ],
   "source": [
    "# Top 10 avg of prices per district in 2018\n",
    "\n",
    "top_avg_price = df.groupby(['district']).mean().nlargest(n=5, columns=['price18'])\n",
    "#.plot(kind='barh')\n",
    "\n",
    "top_avg_price"
   ]
  },
  {
   "cell_type": "code",
   "execution_count": 81,
   "id": "442b93c7",
   "metadata": {
    "scrolled": true
   },
   "outputs": [
    {
     "data": {
      "text/html": [
       "<div>\n",
       "<style scoped>\n",
       "    .dataframe tbody tr th:only-of-type {\n",
       "        vertical-align: middle;\n",
       "    }\n",
       "\n",
       "    .dataframe tbody tr th {\n",
       "        vertical-align: top;\n",
       "    }\n",
       "\n",
       "    .dataframe thead th {\n",
       "        text-align: right;\n",
       "    }\n",
       "</style>\n",
       "<table border=\"1\" class=\"dataframe\">\n",
       "  <thead>\n",
       "    <tr style=\"text-align: right;\">\n",
       "      <th></th>\n",
       "      <th>price18</th>\n",
       "      <th>area18</th>\n",
       "      <th>deals18</th>\n",
       "      <th>price19</th>\n",
       "      <th>area19</th>\n",
       "      <th>deals19</th>\n",
       "      <th>price20</th>\n",
       "      <th>area20</th>\n",
       "      <th>deals20</th>\n",
       "      <th>price21</th>\n",
       "      <th>area21</th>\n",
       "      <th>deals21</th>\n",
       "    </tr>\n",
       "    <tr>\n",
       "      <th>district</th>\n",
       "      <th></th>\n",
       "      <th></th>\n",
       "      <th></th>\n",
       "      <th></th>\n",
       "      <th></th>\n",
       "      <th></th>\n",
       "      <th></th>\n",
       "      <th></th>\n",
       "      <th></th>\n",
       "      <th></th>\n",
       "      <th></th>\n",
       "      <th></th>\n",
       "    </tr>\n",
       "  </thead>\n",
       "  <tbody>\n",
       "    <tr>\n",
       "      <th>أم سدرة</th>\n",
       "      <td>0.0</td>\n",
       "      <td>0.0</td>\n",
       "      <td>0.0</td>\n",
       "      <td>0.000000e+00</td>\n",
       "      <td>0.000000</td>\n",
       "      <td>0.000000</td>\n",
       "      <td>2.317778e+05</td>\n",
       "      <td>1990.833333</td>\n",
       "      <td>2.222222</td>\n",
       "      <td>1.072222e+05</td>\n",
       "      <td>549.000000</td>\n",
       "      <td>0.666667</td>\n",
       "    </tr>\n",
       "    <tr>\n",
       "      <th>اكتوبر</th>\n",
       "      <td>0.0</td>\n",
       "      <td>0.0</td>\n",
       "      <td>0.0</td>\n",
       "      <td>1.100000e+06</td>\n",
       "      <td>495.500000</td>\n",
       "      <td>1.000000</td>\n",
       "      <td>0.000000e+00</td>\n",
       "      <td>0.000000</td>\n",
       "      <td>0.000000</td>\n",
       "      <td>0.000000e+00</td>\n",
       "      <td>0.000000</td>\n",
       "      <td>0.000000</td>\n",
       "    </tr>\n",
       "    <tr>\n",
       "      <th>البوادر</th>\n",
       "      <td>0.0</td>\n",
       "      <td>0.0</td>\n",
       "      <td>0.0</td>\n",
       "      <td>2.960000e+04</td>\n",
       "      <td>212.750000</td>\n",
       "      <td>0.300000</td>\n",
       "      <td>3.750000e+05</td>\n",
       "      <td>2717.450000</td>\n",
       "      <td>3.400000</td>\n",
       "      <td>4.135750e+05</td>\n",
       "      <td>2197.950000</td>\n",
       "      <td>3.000000</td>\n",
       "    </tr>\n",
       "    <tr>\n",
       "      <th>البيان</th>\n",
       "      <td>0.0</td>\n",
       "      <td>0.0</td>\n",
       "      <td>0.0</td>\n",
       "      <td>0.000000e+00</td>\n",
       "      <td>0.000000</td>\n",
       "      <td>0.000000</td>\n",
       "      <td>2.476250e+05</td>\n",
       "      <td>2218.087500</td>\n",
       "      <td>2.500000</td>\n",
       "      <td>4.287500e+05</td>\n",
       "      <td>2470.438750</td>\n",
       "      <td>2.750000</td>\n",
       "    </tr>\n",
       "    <tr>\n",
       "      <th>الجزيرة</th>\n",
       "      <td>0.0</td>\n",
       "      <td>0.0</td>\n",
       "      <td>0.0</td>\n",
       "      <td>1.244667e+06</td>\n",
       "      <td>6282.571667</td>\n",
       "      <td>9.166667</td>\n",
       "      <td>2.027627e+06</td>\n",
       "      <td>8315.269167</td>\n",
       "      <td>11.750000</td>\n",
       "      <td>2.018792e+06</td>\n",
       "      <td>5564.920833</td>\n",
       "      <td>7.916667</td>\n",
       "    </tr>\n",
       "  </tbody>\n",
       "</table>\n",
       "</div>"
      ],
      "text/plain": [
       "          price18  area18  deals18       price19       area19   deals19  \\\n",
       "district                                                                  \n",
       "أم سدرة       0.0     0.0      0.0  0.000000e+00     0.000000  0.000000   \n",
       "اكتوبر        0.0     0.0      0.0  1.100000e+06   495.500000  1.000000   \n",
       "البوادر       0.0     0.0      0.0  2.960000e+04   212.750000  0.300000   \n",
       "البيان        0.0     0.0      0.0  0.000000e+00     0.000000  0.000000   \n",
       "الجزيرة       0.0     0.0      0.0  1.244667e+06  6282.571667  9.166667   \n",
       "\n",
       "               price20       area20    deals20       price21       area21  \\\n",
       "district                                                                    \n",
       "أم سدرة   2.317778e+05  1990.833333   2.222222  1.072222e+05   549.000000   \n",
       "اكتوبر    0.000000e+00     0.000000   0.000000  0.000000e+00     0.000000   \n",
       "البوادر   3.750000e+05  2717.450000   3.400000  4.135750e+05  2197.950000   \n",
       "البيان    2.476250e+05  2218.087500   2.500000  4.287500e+05  2470.438750   \n",
       "الجزيرة   2.027627e+06  8315.269167  11.750000  2.018792e+06  5564.920833   \n",
       "\n",
       "           deals21  \n",
       "district            \n",
       "أم سدرة   0.666667  \n",
       "اكتوبر    0.000000  \n",
       "البوادر   3.000000  \n",
       "البيان    2.750000  \n",
       "الجزيرة   7.916667  "
      ]
     },
     "execution_count": 81,
     "metadata": {},
     "output_type": "execute_result"
    }
   ],
   "source": [
    "# Bottom 10 avg of prices per district 2018\n",
    "\n",
    "bottom_avg_price = df.groupby(['district']).mean().nsmallest(n=5, columns=['price18'])\n",
    "#.plot(kind='barh')\n",
    "\n",
    "bottom_avg_price"
   ]
  },
  {
   "cell_type": "code",
   "execution_count": 82,
   "id": "fc0a260f",
   "metadata": {},
   "outputs": [
    {
     "data": {
      "text/html": [
       "<div>\n",
       "<style scoped>\n",
       "    .dataframe tbody tr th:only-of-type {\n",
       "        vertical-align: middle;\n",
       "    }\n",
       "\n",
       "    .dataframe tbody tr th {\n",
       "        vertical-align: top;\n",
       "    }\n",
       "\n",
       "    .dataframe thead th {\n",
       "        text-align: right;\n",
       "    }\n",
       "</style>\n",
       "<table border=\"1\" class=\"dataframe\">\n",
       "  <thead>\n",
       "    <tr style=\"text-align: right;\">\n",
       "      <th></th>\n",
       "      <th>price18</th>\n",
       "      <th>area18</th>\n",
       "      <th>deals18</th>\n",
       "      <th>price19</th>\n",
       "      <th>area19</th>\n",
       "      <th>deals19</th>\n",
       "      <th>price20</th>\n",
       "      <th>area20</th>\n",
       "      <th>deals20</th>\n",
       "      <th>price21</th>\n",
       "      <th>area21</th>\n",
       "      <th>deals21</th>\n",
       "    </tr>\n",
       "    <tr>\n",
       "      <th>district</th>\n",
       "      <th></th>\n",
       "      <th></th>\n",
       "      <th></th>\n",
       "      <th></th>\n",
       "      <th></th>\n",
       "      <th></th>\n",
       "      <th></th>\n",
       "      <th></th>\n",
       "      <th></th>\n",
       "      <th></th>\n",
       "      <th></th>\n",
       "      <th></th>\n",
       "    </tr>\n",
       "  </thead>\n",
       "  <tbody>\n",
       "    <tr>\n",
       "      <th>ابحر الشمالية</th>\n",
       "      <td>1.770370e+08</td>\n",
       "      <td>274420.572250</td>\n",
       "      <td>20.000000</td>\n",
       "      <td>3.885426e+07</td>\n",
       "      <td>17038.273333</td>\n",
       "      <td>26.000000</td>\n",
       "      <td>4.656326e+07</td>\n",
       "      <td>31058.673083</td>\n",
       "      <td>30.750000</td>\n",
       "      <td>3.006561e+07</td>\n",
       "      <td>14050.325000</td>\n",
       "      <td>15.833333</td>\n",
       "    </tr>\n",
       "    <tr>\n",
       "      <th>الوادى</th>\n",
       "      <td>5.656945e+07</td>\n",
       "      <td>261395.941364</td>\n",
       "      <td>2.545455</td>\n",
       "      <td>6.065110e+06</td>\n",
       "      <td>10166.706364</td>\n",
       "      <td>3.727273</td>\n",
       "      <td>4.704285e+06</td>\n",
       "      <td>7334.190000</td>\n",
       "      <td>1.636364</td>\n",
       "      <td>1.242227e+06</td>\n",
       "      <td>1667.418182</td>\n",
       "      <td>0.181818</td>\n",
       "    </tr>\n",
       "    <tr>\n",
       "      <th>جوهرة العروس</th>\n",
       "      <td>1.838938e+07</td>\n",
       "      <td>100978.704583</td>\n",
       "      <td>121.833333</td>\n",
       "      <td>3.721405e+07</td>\n",
       "      <td>154824.068333</td>\n",
       "      <td>189.500000</td>\n",
       "      <td>5.244501e+07</td>\n",
       "      <td>157825.063333</td>\n",
       "      <td>194.416667</td>\n",
       "      <td>3.952962e+07</td>\n",
       "      <td>94129.300833</td>\n",
       "      <td>116.166667</td>\n",
       "    </tr>\n",
       "    <tr>\n",
       "      <th>ذهبان</th>\n",
       "      <td>2.937596e+06</td>\n",
       "      <td>51604.933500</td>\n",
       "      <td>4.916667</td>\n",
       "      <td>6.155837e+06</td>\n",
       "      <td>13298.606667</td>\n",
       "      <td>6.833333</td>\n",
       "      <td>9.724140e+06</td>\n",
       "      <td>27511.349167</td>\n",
       "      <td>7.500000</td>\n",
       "      <td>5.792241e+06</td>\n",
       "      <td>47424.525833</td>\n",
       "      <td>2.583333</td>\n",
       "    </tr>\n",
       "    <tr>\n",
       "      <th>الرياض</th>\n",
       "      <td>2.308777e+07</td>\n",
       "      <td>43671.053333</td>\n",
       "      <td>67.416667</td>\n",
       "      <td>7.044471e+07</td>\n",
       "      <td>218982.415833</td>\n",
       "      <td>97.833333</td>\n",
       "      <td>3.587789e+07</td>\n",
       "      <td>52805.530833</td>\n",
       "      <td>77.750000</td>\n",
       "      <td>2.345347e+07</td>\n",
       "      <td>28146.336250</td>\n",
       "      <td>41.666667</td>\n",
       "    </tr>\n",
       "  </tbody>\n",
       "</table>\n",
       "</div>"
      ],
      "text/plain": [
       "                    price18         area18     deals18       price19  \\\n",
       "district                                                               \n",
       "ابحر الشمالية  1.770370e+08  274420.572250   20.000000  3.885426e+07   \n",
       "الوادى         5.656945e+07  261395.941364    2.545455  6.065110e+06   \n",
       "جوهرة العروس   1.838938e+07  100978.704583  121.833333  3.721405e+07   \n",
       "ذهبان          2.937596e+06   51604.933500    4.916667  6.155837e+06   \n",
       "الرياض         2.308777e+07   43671.053333   67.416667  7.044471e+07   \n",
       "\n",
       "                      area19     deals19       price20         area20  \\\n",
       "district                                                                \n",
       "ابحر الشمالية   17038.273333   26.000000  4.656326e+07   31058.673083   \n",
       "الوادى          10166.706364    3.727273  4.704285e+06    7334.190000   \n",
       "جوهرة العروس   154824.068333  189.500000  5.244501e+07  157825.063333   \n",
       "ذهبان           13298.606667    6.833333  9.724140e+06   27511.349167   \n",
       "الرياض         218982.415833   97.833333  3.587789e+07   52805.530833   \n",
       "\n",
       "                  deals20       price21        area21     deals21  \n",
       "district                                                           \n",
       "ابحر الشمالية   30.750000  3.006561e+07  14050.325000   15.833333  \n",
       "الوادى           1.636364  1.242227e+06   1667.418182    0.181818  \n",
       "جوهرة العروس   194.416667  3.952962e+07  94129.300833  116.166667  \n",
       "ذهبان            7.500000  5.792241e+06  47424.525833    2.583333  \n",
       "الرياض          77.750000  2.345347e+07  28146.336250   41.666667  "
      ]
     },
     "execution_count": 82,
     "metadata": {},
     "output_type": "execute_result"
    }
   ],
   "source": [
    "# Top 10 avg of size per district in 2018\n",
    "\n",
    "top_avg_size = df.groupby(['district']).mean().nlargest(n=5, columns=['area18'])#.plot(kind='barh')\n",
    "\n",
    "top_avg_size"
   ]
  },
  {
   "cell_type": "code",
   "execution_count": 83,
   "id": "03056e6a",
   "metadata": {},
   "outputs": [
    {
     "data": {
      "text/html": [
       "<div>\n",
       "<style scoped>\n",
       "    .dataframe tbody tr th:only-of-type {\n",
       "        vertical-align: middle;\n",
       "    }\n",
       "\n",
       "    .dataframe tbody tr th {\n",
       "        vertical-align: top;\n",
       "    }\n",
       "\n",
       "    .dataframe thead th {\n",
       "        text-align: right;\n",
       "    }\n",
       "</style>\n",
       "<table border=\"1\" class=\"dataframe\">\n",
       "  <thead>\n",
       "    <tr style=\"text-align: right;\">\n",
       "      <th></th>\n",
       "      <th>price18</th>\n",
       "      <th>area18</th>\n",
       "      <th>deals18</th>\n",
       "      <th>price19</th>\n",
       "      <th>area19</th>\n",
       "      <th>deals19</th>\n",
       "      <th>price20</th>\n",
       "      <th>area20</th>\n",
       "      <th>deals20</th>\n",
       "      <th>price21</th>\n",
       "      <th>area21</th>\n",
       "      <th>deals21</th>\n",
       "    </tr>\n",
       "    <tr>\n",
       "      <th>district</th>\n",
       "      <th></th>\n",
       "      <th></th>\n",
       "      <th></th>\n",
       "      <th></th>\n",
       "      <th></th>\n",
       "      <th></th>\n",
       "      <th></th>\n",
       "      <th></th>\n",
       "      <th></th>\n",
       "      <th></th>\n",
       "      <th></th>\n",
       "      <th></th>\n",
       "    </tr>\n",
       "  </thead>\n",
       "  <tbody>\n",
       "    <tr>\n",
       "      <th>أم سدرة</th>\n",
       "      <td>0.0</td>\n",
       "      <td>0.0</td>\n",
       "      <td>0.0</td>\n",
       "      <td>0.000000e+00</td>\n",
       "      <td>0.000000</td>\n",
       "      <td>0.000000</td>\n",
       "      <td>2.317778e+05</td>\n",
       "      <td>1990.833333</td>\n",
       "      <td>2.222222</td>\n",
       "      <td>1.072222e+05</td>\n",
       "      <td>549.000000</td>\n",
       "      <td>0.666667</td>\n",
       "    </tr>\n",
       "    <tr>\n",
       "      <th>اكتوبر</th>\n",
       "      <td>0.0</td>\n",
       "      <td>0.0</td>\n",
       "      <td>0.0</td>\n",
       "      <td>1.100000e+06</td>\n",
       "      <td>495.500000</td>\n",
       "      <td>1.000000</td>\n",
       "      <td>0.000000e+00</td>\n",
       "      <td>0.000000</td>\n",
       "      <td>0.000000</td>\n",
       "      <td>0.000000e+00</td>\n",
       "      <td>0.000000</td>\n",
       "      <td>0.000000</td>\n",
       "    </tr>\n",
       "    <tr>\n",
       "      <th>البوادر</th>\n",
       "      <td>0.0</td>\n",
       "      <td>0.0</td>\n",
       "      <td>0.0</td>\n",
       "      <td>2.960000e+04</td>\n",
       "      <td>212.750000</td>\n",
       "      <td>0.300000</td>\n",
       "      <td>3.750000e+05</td>\n",
       "      <td>2717.450000</td>\n",
       "      <td>3.400000</td>\n",
       "      <td>4.135750e+05</td>\n",
       "      <td>2197.950000</td>\n",
       "      <td>3.000000</td>\n",
       "    </tr>\n",
       "    <tr>\n",
       "      <th>البيان</th>\n",
       "      <td>0.0</td>\n",
       "      <td>0.0</td>\n",
       "      <td>0.0</td>\n",
       "      <td>0.000000e+00</td>\n",
       "      <td>0.000000</td>\n",
       "      <td>0.000000</td>\n",
       "      <td>2.476250e+05</td>\n",
       "      <td>2218.087500</td>\n",
       "      <td>2.500000</td>\n",
       "      <td>4.287500e+05</td>\n",
       "      <td>2470.438750</td>\n",
       "      <td>2.750000</td>\n",
       "    </tr>\n",
       "    <tr>\n",
       "      <th>الجزيرة</th>\n",
       "      <td>0.0</td>\n",
       "      <td>0.0</td>\n",
       "      <td>0.0</td>\n",
       "      <td>1.244667e+06</td>\n",
       "      <td>6282.571667</td>\n",
       "      <td>9.166667</td>\n",
       "      <td>2.027627e+06</td>\n",
       "      <td>8315.269167</td>\n",
       "      <td>11.750000</td>\n",
       "      <td>2.018792e+06</td>\n",
       "      <td>5564.920833</td>\n",
       "      <td>7.916667</td>\n",
       "    </tr>\n",
       "  </tbody>\n",
       "</table>\n",
       "</div>"
      ],
      "text/plain": [
       "          price18  area18  deals18       price19       area19   deals19  \\\n",
       "district                                                                  \n",
       "أم سدرة       0.0     0.0      0.0  0.000000e+00     0.000000  0.000000   \n",
       "اكتوبر        0.0     0.0      0.0  1.100000e+06   495.500000  1.000000   \n",
       "البوادر       0.0     0.0      0.0  2.960000e+04   212.750000  0.300000   \n",
       "البيان        0.0     0.0      0.0  0.000000e+00     0.000000  0.000000   \n",
       "الجزيرة       0.0     0.0      0.0  1.244667e+06  6282.571667  9.166667   \n",
       "\n",
       "               price20       area20    deals20       price21       area21  \\\n",
       "district                                                                    \n",
       "أم سدرة   2.317778e+05  1990.833333   2.222222  1.072222e+05   549.000000   \n",
       "اكتوبر    0.000000e+00     0.000000   0.000000  0.000000e+00     0.000000   \n",
       "البوادر   3.750000e+05  2717.450000   3.400000  4.135750e+05  2197.950000   \n",
       "البيان    2.476250e+05  2218.087500   2.500000  4.287500e+05  2470.438750   \n",
       "الجزيرة   2.027627e+06  8315.269167  11.750000  2.018792e+06  5564.920833   \n",
       "\n",
       "           deals21  \n",
       "district            \n",
       "أم سدرة   0.666667  \n",
       "اكتوبر    0.000000  \n",
       "البوادر   3.000000  \n",
       "البيان    2.750000  \n",
       "الجزيرة   7.916667  "
      ]
     },
     "execution_count": 83,
     "metadata": {},
     "output_type": "execute_result"
    }
   ],
   "source": [
    "# Bottom 10 avg of size per district in 2018\n",
    "\n",
    "bottom_avg_size = df.groupby(['district']).mean().nsmallest(n=5, columns=['area18'])\n",
    "#.plot(kind='barh')\n",
    "bottom_avg_size"
   ]
  },
  {
   "cell_type": "markdown",
   "id": "6173d909",
   "metadata": {},
   "source": [
    "# 2019"
   ]
  },
  {
   "cell_type": "code",
   "execution_count": 84,
   "id": "0ac34554",
   "metadata": {},
   "outputs": [
    {
     "data": {
      "image/png": "[encoded data removed]",
      "text/plain": [
       "<Figure size 432x288 with 1 Axes>"
      ]
     },
     "metadata": {
      "needs_background": "light"
     },
     "output_type": "display_data"
    }
   ],
   "source": [
    "# size avarege per district\n",
    "\n",
    "\n",
    "avg_per_district['district2'] = avg_per_district.index\n",
    "\n",
    "sns.barplot(data=avg_per_district.nlargest(n=5, columns='area19'), x=\"district2\", y=\"area19\")\n",
    "plt.title('homes size avg per district in 2019')\n",
    "plt.xlabel('district')\n",
    "plt.ylabel('avg size')\n",
    "plt.show()"
   ]
  },
  {
   "cell_type": "code",
   "execution_count": 85,
   "id": "21033778",
   "metadata": {
    "scrolled": true
   },
   "outputs": [
    {
     "data": {
      "image/png": "[encoded data removed]",
      "text/plain": [
       "<Figure size 432x288 with 1 Axes>"
      ]
     },
     "metadata": {
      "needs_background": "light"
     },
     "output_type": "display_data"
    }
   ],
   "source": [
    "# price avarege per district\n",
    "avg_per_district['district2'] = avg_per_district.index\n",
    "\n",
    "sns.barplot(data=avg_per_district.nlargest(n=5, columns='price19'), x=\"district2\", y=\"price19\")\n",
    "plt.title('avg of homes prices in 2019 per district')\n",
    "plt.xlabel('district')\n",
    "plt.ylabel('avg price')\n",
    "plt.show()"
   ]
  },
  {
   "cell_type": "code",
   "execution_count": 86,
   "id": "4caf4b39",
   "metadata": {},
   "outputs": [
    {
     "data": {
      "text/plain": [
       "0.0"
      ]
     },
     "execution_count": 86,
     "metadata": {},
     "output_type": "execute_result"
    }
   ],
   "source": [
    "# Lowest price in 2019\n",
    "df['price19'].min()"
   ]
  },
  {
   "cell_type": "code",
   "execution_count": 87,
   "id": "45a4942d",
   "metadata": {},
   "outputs": [
    {
     "data": {
      "text/plain": [
       "1000000000.0"
      ]
     },
     "execution_count": 87,
     "metadata": {},
     "output_type": "execute_result"
    }
   ],
   "source": [
    "# Highest price in 2019\n",
    "df['price19'].max()"
   ]
  },
  {
   "cell_type": "code",
   "execution_count": 88,
   "id": "c2c34d87",
   "metadata": {},
   "outputs": [
    {
     "data": {
      "text/plain": [
       "15768863.129217058"
      ]
     },
     "execution_count": 88,
     "metadata": {},
     "output_type": "execute_result"
    }
   ],
   "source": [
    "# Avg of all prices in 2019\n",
    "df['price19'].mean()"
   ]
  },
  {
   "cell_type": "code",
   "execution_count": 89,
   "id": "612efa98",
   "metadata": {},
   "outputs": [
    {
     "data": {
      "text/plain": [
       "0.0"
      ]
     },
     "execution_count": 89,
     "metadata": {},
     "output_type": "execute_result"
    }
   ],
   "source": [
    "# Lowest size in the dataset\n",
    "df['area19'].min()"
   ]
  },
  {
   "cell_type": "code",
   "execution_count": 90,
   "id": "ab7e815a",
   "metadata": {},
   "outputs": [
    {
     "data": {
      "text/plain": [
       "1892122.16"
      ]
     },
     "execution_count": 90,
     "metadata": {},
     "output_type": "execute_result"
    }
   ],
   "source": [
    "# Highest size in 2019\n",
    "df['area19'].max()"
   ]
  },
  {
   "cell_type": "code",
   "execution_count": 91,
   "id": "fdffaae4",
   "metadata": {},
   "outputs": [
    {
     "data": {
      "text/plain": [
       "11857.812570655631"
      ]
     },
     "execution_count": 91,
     "metadata": {},
     "output_type": "execute_result"
    }
   ],
   "source": [
    "# Avg of all size values in 2019\n",
    "df['area19'].mean()"
   ]
  },
  {
   "cell_type": "code",
   "execution_count": 92,
   "id": "e944e78e",
   "metadata": {},
   "outputs": [
    {
     "data": {
      "text/html": [
       "<div>\n",
       "<style scoped>\n",
       "    .dataframe tbody tr th:only-of-type {\n",
       "        vertical-align: middle;\n",
       "    }\n",
       "\n",
       "    .dataframe tbody tr th {\n",
       "        vertical-align: top;\n",
       "    }\n",
       "\n",
       "    .dataframe thead th {\n",
       "        text-align: right;\n",
       "    }\n",
       "</style>\n",
       "<table border=\"1\" class=\"dataframe\">\n",
       "  <thead>\n",
       "    <tr style=\"text-align: right;\">\n",
       "      <th></th>\n",
       "      <th>price18</th>\n",
       "      <th>area18</th>\n",
       "      <th>deals18</th>\n",
       "      <th>price19</th>\n",
       "      <th>area19</th>\n",
       "      <th>deals19</th>\n",
       "      <th>price20</th>\n",
       "      <th>area20</th>\n",
       "      <th>deals20</th>\n",
       "      <th>price21</th>\n",
       "      <th>area21</th>\n",
       "      <th>deals21</th>\n",
       "    </tr>\n",
       "    <tr>\n",
       "      <th>district</th>\n",
       "      <th></th>\n",
       "      <th></th>\n",
       "      <th></th>\n",
       "      <th></th>\n",
       "      <th></th>\n",
       "      <th></th>\n",
       "      <th></th>\n",
       "      <th></th>\n",
       "      <th></th>\n",
       "      <th></th>\n",
       "      <th></th>\n",
       "      <th></th>\n",
       "    </tr>\n",
       "  </thead>\n",
       "  <tbody>\n",
       "    <tr>\n",
       "      <th>الاندلس</th>\n",
       "      <td>2.325417e+07</td>\n",
       "      <td>2628.251667</td>\n",
       "      <td>2.166667</td>\n",
       "      <td>1.244169e+08</td>\n",
       "      <td>2492.666667</td>\n",
       "      <td>1.250000</td>\n",
       "      <td>1.050805e+07</td>\n",
       "      <td>1599.846667</td>\n",
       "      <td>1.000000</td>\n",
       "      <td>1.529645e+06</td>\n",
       "      <td>361.825417</td>\n",
       "      <td>0.666667</td>\n",
       "    </tr>\n",
       "    <tr>\n",
       "      <th>الشاطئ</th>\n",
       "      <td>5.265979e+07</td>\n",
       "      <td>8275.270000</td>\n",
       "      <td>12.750000</td>\n",
       "      <td>8.913137e+07</td>\n",
       "      <td>11541.151667</td>\n",
       "      <td>22.333333</td>\n",
       "      <td>8.410486e+07</td>\n",
       "      <td>14350.758750</td>\n",
       "      <td>16.583333</td>\n",
       "      <td>1.403357e+07</td>\n",
       "      <td>2285.484833</td>\n",
       "      <td>3.250000</td>\n",
       "    </tr>\n",
       "    <tr>\n",
       "      <th>الرياض</th>\n",
       "      <td>2.308777e+07</td>\n",
       "      <td>43671.053333</td>\n",
       "      <td>67.416667</td>\n",
       "      <td>7.044471e+07</td>\n",
       "      <td>218982.415833</td>\n",
       "      <td>97.833333</td>\n",
       "      <td>3.587789e+07</td>\n",
       "      <td>52805.530833</td>\n",
       "      <td>77.750000</td>\n",
       "      <td>2.345347e+07</td>\n",
       "      <td>28146.336250</td>\n",
       "      <td>41.666667</td>\n",
       "    </tr>\n",
       "    <tr>\n",
       "      <th>الفيحاء</th>\n",
       "      <td>9.154166e+06</td>\n",
       "      <td>1882.965833</td>\n",
       "      <td>3.666667</td>\n",
       "      <td>6.997329e+07</td>\n",
       "      <td>17846.553083</td>\n",
       "      <td>7.166667</td>\n",
       "      <td>1.396469e+07</td>\n",
       "      <td>3973.741083</td>\n",
       "      <td>5.833333</td>\n",
       "      <td>2.361127e+07</td>\n",
       "      <td>6546.709167</td>\n",
       "      <td>7.583333</td>\n",
       "    </tr>\n",
       "    <tr>\n",
       "      <th>الشراع</th>\n",
       "      <td>2.993935e+07</td>\n",
       "      <td>12136.126917</td>\n",
       "      <td>25.166667</td>\n",
       "      <td>6.612338e+07</td>\n",
       "      <td>38468.507650</td>\n",
       "      <td>63.250000</td>\n",
       "      <td>4.970508e+07</td>\n",
       "      <td>29080.450000</td>\n",
       "      <td>49.083333</td>\n",
       "      <td>1.757469e+07</td>\n",
       "      <td>7169.084167</td>\n",
       "      <td>13.083333</td>\n",
       "    </tr>\n",
       "  </tbody>\n",
       "</table>\n",
       "</div>"
      ],
      "text/plain": [
       "               price18        area18    deals18       price19         area19  \\\n",
       "district                                                                       \n",
       "الاندلس   2.325417e+07   2628.251667   2.166667  1.244169e+08    2492.666667   \n",
       "الشاطئ    5.265979e+07   8275.270000  12.750000  8.913137e+07   11541.151667   \n",
       "الرياض    2.308777e+07  43671.053333  67.416667  7.044471e+07  218982.415833   \n",
       "الفيحاء   9.154166e+06   1882.965833   3.666667  6.997329e+07   17846.553083   \n",
       "الشراع    2.993935e+07  12136.126917  25.166667  6.612338e+07   38468.507650   \n",
       "\n",
       "            deals19       price20        area20    deals20       price21  \\\n",
       "district                                                                   \n",
       "الاندلس    1.250000  1.050805e+07   1599.846667   1.000000  1.529645e+06   \n",
       "الشاطئ    22.333333  8.410486e+07  14350.758750  16.583333  1.403357e+07   \n",
       "الرياض    97.833333  3.587789e+07  52805.530833  77.750000  2.345347e+07   \n",
       "الفيحاء    7.166667  1.396469e+07   3973.741083   5.833333  2.361127e+07   \n",
       "الشراع    63.250000  4.970508e+07  29080.450000  49.083333  1.757469e+07   \n",
       "\n",
       "                area21    deals21  \n",
       "district                           \n",
       "الاندلس     361.825417   0.666667  \n",
       "الشاطئ     2285.484833   3.250000  \n",
       "الرياض    28146.336250  41.666667  \n",
       "الفيحاء    6546.709167   7.583333  \n",
       "الشراع     7169.084167  13.083333  "
      ]
     },
     "execution_count": 92,
     "metadata": {},
     "output_type": "execute_result"
    }
   ],
   "source": [
    "# Top 10 avg of prices per district in 2019\n",
    "\n",
    "top_avg_price = df.groupby(['district']).mean().nlargest(n=5, columns=['price19'])\n",
    "#.plot(kind='barh')\n",
    "\n",
    "top_avg_price"
   ]
  },
  {
   "cell_type": "code",
   "execution_count": 93,
   "id": "a5196ad7",
   "metadata": {},
   "outputs": [
    {
     "data": {
      "text/html": [
       "<div>\n",
       "<style scoped>\n",
       "    .dataframe tbody tr th:only-of-type {\n",
       "        vertical-align: middle;\n",
       "    }\n",
       "\n",
       "    .dataframe tbody tr th {\n",
       "        vertical-align: top;\n",
       "    }\n",
       "\n",
       "    .dataframe thead th {\n",
       "        text-align: right;\n",
       "    }\n",
       "</style>\n",
       "<table border=\"1\" class=\"dataframe\">\n",
       "  <thead>\n",
       "    <tr style=\"text-align: right;\">\n",
       "      <th></th>\n",
       "      <th>price18</th>\n",
       "      <th>area18</th>\n",
       "      <th>deals18</th>\n",
       "      <th>price19</th>\n",
       "      <th>area19</th>\n",
       "      <th>deals19</th>\n",
       "      <th>price20</th>\n",
       "      <th>area20</th>\n",
       "      <th>deals20</th>\n",
       "      <th>price21</th>\n",
       "      <th>area21</th>\n",
       "      <th>deals21</th>\n",
       "    </tr>\n",
       "    <tr>\n",
       "      <th>district</th>\n",
       "      <th></th>\n",
       "      <th></th>\n",
       "      <th></th>\n",
       "      <th></th>\n",
       "      <th></th>\n",
       "      <th></th>\n",
       "      <th></th>\n",
       "      <th></th>\n",
       "      <th></th>\n",
       "      <th></th>\n",
       "      <th></th>\n",
       "      <th></th>\n",
       "    </tr>\n",
       "  </thead>\n",
       "  <tbody>\n",
       "    <tr>\n",
       "      <th>أم سدرة</th>\n",
       "      <td>0.0</td>\n",
       "      <td>0.0</td>\n",
       "      <td>0.0</td>\n",
       "      <td>0.0</td>\n",
       "      <td>0.0</td>\n",
       "      <td>0.0</td>\n",
       "      <td>2.317778e+05</td>\n",
       "      <td>1990.833333</td>\n",
       "      <td>2.222222</td>\n",
       "      <td>1.072222e+05</td>\n",
       "      <td>549.000000</td>\n",
       "      <td>0.666667</td>\n",
       "    </tr>\n",
       "    <tr>\n",
       "      <th>ابريل</th>\n",
       "      <td>4050000.0</td>\n",
       "      <td>1023.0</td>\n",
       "      <td>2.0</td>\n",
       "      <td>0.0</td>\n",
       "      <td>0.0</td>\n",
       "      <td>0.0</td>\n",
       "      <td>0.000000e+00</td>\n",
       "      <td>0.000000</td>\n",
       "      <td>0.000000</td>\n",
       "      <td>1.200000e+06</td>\n",
       "      <td>300.000000</td>\n",
       "      <td>1.000000</td>\n",
       "    </tr>\n",
       "    <tr>\n",
       "      <th>البيان</th>\n",
       "      <td>0.0</td>\n",
       "      <td>0.0</td>\n",
       "      <td>0.0</td>\n",
       "      <td>0.0</td>\n",
       "      <td>0.0</td>\n",
       "      <td>0.0</td>\n",
       "      <td>2.476250e+05</td>\n",
       "      <td>2218.087500</td>\n",
       "      <td>2.500000</td>\n",
       "      <td>4.287500e+05</td>\n",
       "      <td>2470.438750</td>\n",
       "      <td>2.750000</td>\n",
       "    </tr>\n",
       "    <tr>\n",
       "      <th>المجد</th>\n",
       "      <td>0.0</td>\n",
       "      <td>0.0</td>\n",
       "      <td>0.0</td>\n",
       "      <td>0.0</td>\n",
       "      <td>0.0</td>\n",
       "      <td>0.0</td>\n",
       "      <td>2.583445e+06</td>\n",
       "      <td>25181.652727</td>\n",
       "      <td>27.818182</td>\n",
       "      <td>2.378811e+06</td>\n",
       "      <td>15993.288182</td>\n",
       "      <td>17.636364</td>\n",
       "    </tr>\n",
       "    <tr>\n",
       "      <th>اوغسطس</th>\n",
       "      <td>1181564.0</td>\n",
       "      <td>600.0</td>\n",
       "      <td>1.0</td>\n",
       "      <td>0.0</td>\n",
       "      <td>0.0</td>\n",
       "      <td>0.0</td>\n",
       "      <td>6.845170e+05</td>\n",
       "      <td>3096.190000</td>\n",
       "      <td>2.000000</td>\n",
       "      <td>0.000000e+00</td>\n",
       "      <td>0.000000</td>\n",
       "      <td>0.000000</td>\n",
       "    </tr>\n",
       "  </tbody>\n",
       "</table>\n",
       "</div>"
      ],
      "text/plain": [
       "            price18  area18  deals18  price19  area19  deals19       price20  \\\n",
       "district                                                                       \n",
       "أم سدرة         0.0     0.0      0.0      0.0     0.0      0.0  2.317778e+05   \n",
       "ابريل     4050000.0  1023.0      2.0      0.0     0.0      0.0  0.000000e+00   \n",
       "البيان          0.0     0.0      0.0      0.0     0.0      0.0  2.476250e+05   \n",
       "المجد           0.0     0.0      0.0      0.0     0.0      0.0  2.583445e+06   \n",
       "اوغسطس    1181564.0   600.0      1.0      0.0     0.0      0.0  6.845170e+05   \n",
       "\n",
       "                area20    deals20       price21        area21    deals21  \n",
       "district                                                                  \n",
       "أم سدرة    1990.833333   2.222222  1.072222e+05    549.000000   0.666667  \n",
       "ابريل         0.000000   0.000000  1.200000e+06    300.000000   1.000000  \n",
       "البيان     2218.087500   2.500000  4.287500e+05   2470.438750   2.750000  \n",
       "المجد     25181.652727  27.818182  2.378811e+06  15993.288182  17.636364  \n",
       "اوغسطس     3096.190000   2.000000  0.000000e+00      0.000000   0.000000  "
      ]
     },
     "execution_count": 93,
     "metadata": {},
     "output_type": "execute_result"
    }
   ],
   "source": [
    "# Bottom 10 avg of prices per district 2019\n",
    "\n",
    "bottom_avg_price = df.groupby(['district']).mean().nsmallest(n=5, columns=['price19'])\n",
    "#.plot(kind='barh')\n",
    "\n",
    "bottom_avg_price"
   ]
  },
  {
   "cell_type": "code",
   "execution_count": 94,
   "id": "98a7dd1b",
   "metadata": {},
   "outputs": [
    {
     "data": {
      "text/html": [
       "<div>\n",
       "<style scoped>\n",
       "    .dataframe tbody tr th:only-of-type {\n",
       "        vertical-align: middle;\n",
       "    }\n",
       "\n",
       "    .dataframe tbody tr th {\n",
       "        vertical-align: top;\n",
       "    }\n",
       "\n",
       "    .dataframe thead th {\n",
       "        text-align: right;\n",
       "    }\n",
       "</style>\n",
       "<table border=\"1\" class=\"dataframe\">\n",
       "  <thead>\n",
       "    <tr style=\"text-align: right;\">\n",
       "      <th></th>\n",
       "      <th>price18</th>\n",
       "      <th>area18</th>\n",
       "      <th>deals18</th>\n",
       "      <th>price19</th>\n",
       "      <th>area19</th>\n",
       "      <th>deals19</th>\n",
       "      <th>price20</th>\n",
       "      <th>area20</th>\n",
       "      <th>deals20</th>\n",
       "      <th>price21</th>\n",
       "      <th>area21</th>\n",
       "      <th>deals21</th>\n",
       "    </tr>\n",
       "    <tr>\n",
       "      <th>district</th>\n",
       "      <th></th>\n",
       "      <th></th>\n",
       "      <th></th>\n",
       "      <th></th>\n",
       "      <th></th>\n",
       "      <th></th>\n",
       "      <th></th>\n",
       "      <th></th>\n",
       "      <th></th>\n",
       "      <th></th>\n",
       "      <th></th>\n",
       "      <th></th>\n",
       "    </tr>\n",
       "  </thead>\n",
       "  <tbody>\n",
       "    <tr>\n",
       "      <th>الرياض</th>\n",
       "      <td>2.308777e+07</td>\n",
       "      <td>43671.053333</td>\n",
       "      <td>67.416667</td>\n",
       "      <td>7.044471e+07</td>\n",
       "      <td>218982.415833</td>\n",
       "      <td>97.833333</td>\n",
       "      <td>3.587789e+07</td>\n",
       "      <td>52805.530833</td>\n",
       "      <td>77.750000</td>\n",
       "      <td>2.345347e+07</td>\n",
       "      <td>28146.336250</td>\n",
       "      <td>41.666667</td>\n",
       "    </tr>\n",
       "    <tr>\n",
       "      <th>جوهرة العروس</th>\n",
       "      <td>1.838938e+07</td>\n",
       "      <td>100978.704583</td>\n",
       "      <td>121.833333</td>\n",
       "      <td>3.721405e+07</td>\n",
       "      <td>154824.068333</td>\n",
       "      <td>189.500000</td>\n",
       "      <td>5.244501e+07</td>\n",
       "      <td>157825.063333</td>\n",
       "      <td>194.416667</td>\n",
       "      <td>3.952962e+07</td>\n",
       "      <td>94129.300833</td>\n",
       "      <td>116.166667</td>\n",
       "    </tr>\n",
       "    <tr>\n",
       "      <th>البشائر</th>\n",
       "      <td>6.849456e+06</td>\n",
       "      <td>25329.925000</td>\n",
       "      <td>37.083333</td>\n",
       "      <td>2.570526e+07</td>\n",
       "      <td>70040.113333</td>\n",
       "      <td>107.333333</td>\n",
       "      <td>1.886718e+07</td>\n",
       "      <td>51305.880833</td>\n",
       "      <td>79.500000</td>\n",
       "      <td>6.222660e+06</td>\n",
       "      <td>8072.390000</td>\n",
       "      <td>14.416667</td>\n",
       "    </tr>\n",
       "    <tr>\n",
       "      <th>الصالحية</th>\n",
       "      <td>3.462852e+07</td>\n",
       "      <td>33441.299167</td>\n",
       "      <td>54.000000</td>\n",
       "      <td>5.763981e+07</td>\n",
       "      <td>53348.867917</td>\n",
       "      <td>80.083333</td>\n",
       "      <td>5.137176e+07</td>\n",
       "      <td>43142.809167</td>\n",
       "      <td>55.166667</td>\n",
       "      <td>1.491765e+07</td>\n",
       "      <td>10793.782500</td>\n",
       "      <td>15.833333</td>\n",
       "    </tr>\n",
       "    <tr>\n",
       "      <th>القرينية</th>\n",
       "      <td>1.387396e+07</td>\n",
       "      <td>23640.643333</td>\n",
       "      <td>38.666667</td>\n",
       "      <td>3.372450e+07</td>\n",
       "      <td>48854.746667</td>\n",
       "      <td>80.500000</td>\n",
       "      <td>3.641856e+07</td>\n",
       "      <td>51218.867500</td>\n",
       "      <td>74.000000</td>\n",
       "      <td>1.598663e+07</td>\n",
       "      <td>19497.505000</td>\n",
       "      <td>30.083333</td>\n",
       "    </tr>\n",
       "  </tbody>\n",
       "</table>\n",
       "</div>"
      ],
      "text/plain": [
       "                   price18         area18     deals18       price19  \\\n",
       "district                                                              \n",
       "الرياض        2.308777e+07   43671.053333   67.416667  7.044471e+07   \n",
       "جوهرة العروس  1.838938e+07  100978.704583  121.833333  3.721405e+07   \n",
       "البشائر       6.849456e+06   25329.925000   37.083333  2.570526e+07   \n",
       "الصالحية      3.462852e+07   33441.299167   54.000000  5.763981e+07   \n",
       "القرينية      1.387396e+07   23640.643333   38.666667  3.372450e+07   \n",
       "\n",
       "                     area19     deals19       price20         area20  \\\n",
       "district                                                               \n",
       "الرياض        218982.415833   97.833333  3.587789e+07   52805.530833   \n",
       "جوهرة العروس  154824.068333  189.500000  5.244501e+07  157825.063333   \n",
       "البشائر        70040.113333  107.333333  1.886718e+07   51305.880833   \n",
       "الصالحية       53348.867917   80.083333  5.137176e+07   43142.809167   \n",
       "القرينية       48854.746667   80.500000  3.641856e+07   51218.867500   \n",
       "\n",
       "                 deals20       price21        area21     deals21  \n",
       "district                                                          \n",
       "الرياض         77.750000  2.345347e+07  28146.336250   41.666667  \n",
       "جوهرة العروس  194.416667  3.952962e+07  94129.300833  116.166667  \n",
       "البشائر        79.500000  6.222660e+06   8072.390000   14.416667  \n",
       "الصالحية       55.166667  1.491765e+07  10793.782500   15.833333  \n",
       "القرينية       74.000000  1.598663e+07  19497.505000   30.083333  "
      ]
     },
     "execution_count": 94,
     "metadata": {},
     "output_type": "execute_result"
    }
   ],
   "source": [
    "# Top 10 avg of size per district in 2019\n",
    "\n",
    "top_avg_size = df.groupby(['district']).mean().nlargest(n=5, columns=['area19'])#.plot(kind='barh')\n",
    "\n",
    "top_avg_size"
   ]
  },
  {
   "cell_type": "code",
   "execution_count": 95,
   "id": "0afdc804",
   "metadata": {},
   "outputs": [
    {
     "data": {
      "text/html": [
       "<div>\n",
       "<style scoped>\n",
       "    .dataframe tbody tr th:only-of-type {\n",
       "        vertical-align: middle;\n",
       "    }\n",
       "\n",
       "    .dataframe tbody tr th {\n",
       "        vertical-align: top;\n",
       "    }\n",
       "\n",
       "    .dataframe thead th {\n",
       "        text-align: right;\n",
       "    }\n",
       "</style>\n",
       "<table border=\"1\" class=\"dataframe\">\n",
       "  <thead>\n",
       "    <tr style=\"text-align: right;\">\n",
       "      <th></th>\n",
       "      <th>price18</th>\n",
       "      <th>area18</th>\n",
       "      <th>deals18</th>\n",
       "      <th>price19</th>\n",
       "      <th>area19</th>\n",
       "      <th>deals19</th>\n",
       "      <th>price20</th>\n",
       "      <th>area20</th>\n",
       "      <th>deals20</th>\n",
       "      <th>price21</th>\n",
       "      <th>area21</th>\n",
       "      <th>deals21</th>\n",
       "    </tr>\n",
       "    <tr>\n",
       "      <th>district</th>\n",
       "      <th></th>\n",
       "      <th></th>\n",
       "      <th></th>\n",
       "      <th></th>\n",
       "      <th></th>\n",
       "      <th></th>\n",
       "      <th></th>\n",
       "      <th></th>\n",
       "      <th></th>\n",
       "      <th></th>\n",
       "      <th></th>\n",
       "      <th></th>\n",
       "    </tr>\n",
       "  </thead>\n",
       "  <tbody>\n",
       "    <tr>\n",
       "      <th>أم سدرة</th>\n",
       "      <td>0.0</td>\n",
       "      <td>0.0</td>\n",
       "      <td>0.0</td>\n",
       "      <td>0.0</td>\n",
       "      <td>0.0</td>\n",
       "      <td>0.0</td>\n",
       "      <td>2.317778e+05</td>\n",
       "      <td>1990.833333</td>\n",
       "      <td>2.222222</td>\n",
       "      <td>1.072222e+05</td>\n",
       "      <td>549.000000</td>\n",
       "      <td>0.666667</td>\n",
       "    </tr>\n",
       "    <tr>\n",
       "      <th>ابريل</th>\n",
       "      <td>4050000.0</td>\n",
       "      <td>1023.0</td>\n",
       "      <td>2.0</td>\n",
       "      <td>0.0</td>\n",
       "      <td>0.0</td>\n",
       "      <td>0.0</td>\n",
       "      <td>0.000000e+00</td>\n",
       "      <td>0.000000</td>\n",
       "      <td>0.000000</td>\n",
       "      <td>1.200000e+06</td>\n",
       "      <td>300.000000</td>\n",
       "      <td>1.000000</td>\n",
       "    </tr>\n",
       "    <tr>\n",
       "      <th>البيان</th>\n",
       "      <td>0.0</td>\n",
       "      <td>0.0</td>\n",
       "      <td>0.0</td>\n",
       "      <td>0.0</td>\n",
       "      <td>0.0</td>\n",
       "      <td>0.0</td>\n",
       "      <td>2.476250e+05</td>\n",
       "      <td>2218.087500</td>\n",
       "      <td>2.500000</td>\n",
       "      <td>4.287500e+05</td>\n",
       "      <td>2470.438750</td>\n",
       "      <td>2.750000</td>\n",
       "    </tr>\n",
       "    <tr>\n",
       "      <th>المجد</th>\n",
       "      <td>0.0</td>\n",
       "      <td>0.0</td>\n",
       "      <td>0.0</td>\n",
       "      <td>0.0</td>\n",
       "      <td>0.0</td>\n",
       "      <td>0.0</td>\n",
       "      <td>2.583445e+06</td>\n",
       "      <td>25181.652727</td>\n",
       "      <td>27.818182</td>\n",
       "      <td>2.378811e+06</td>\n",
       "      <td>15993.288182</td>\n",
       "      <td>17.636364</td>\n",
       "    </tr>\n",
       "    <tr>\n",
       "      <th>اوغسطس</th>\n",
       "      <td>1181564.0</td>\n",
       "      <td>600.0</td>\n",
       "      <td>1.0</td>\n",
       "      <td>0.0</td>\n",
       "      <td>0.0</td>\n",
       "      <td>0.0</td>\n",
       "      <td>6.845170e+05</td>\n",
       "      <td>3096.190000</td>\n",
       "      <td>2.000000</td>\n",
       "      <td>0.000000e+00</td>\n",
       "      <td>0.000000</td>\n",
       "      <td>0.000000</td>\n",
       "    </tr>\n",
       "  </tbody>\n",
       "</table>\n",
       "</div>"
      ],
      "text/plain": [
       "            price18  area18  deals18  price19  area19  deals19       price20  \\\n",
       "district                                                                       \n",
       "أم سدرة         0.0     0.0      0.0      0.0     0.0      0.0  2.317778e+05   \n",
       "ابريل     4050000.0  1023.0      2.0      0.0     0.0      0.0  0.000000e+00   \n",
       "البيان          0.0     0.0      0.0      0.0     0.0      0.0  2.476250e+05   \n",
       "المجد           0.0     0.0      0.0      0.0     0.0      0.0  2.583445e+06   \n",
       "اوغسطس    1181564.0   600.0      1.0      0.0     0.0      0.0  6.845170e+05   \n",
       "\n",
       "                area20    deals20       price21        area21    deals21  \n",
       "district                                                                  \n",
       "أم سدرة    1990.833333   2.222222  1.072222e+05    549.000000   0.666667  \n",
       "ابريل         0.000000   0.000000  1.200000e+06    300.000000   1.000000  \n",
       "البيان     2218.087500   2.500000  4.287500e+05   2470.438750   2.750000  \n",
       "المجد     25181.652727  27.818182  2.378811e+06  15993.288182  17.636364  \n",
       "اوغسطس     3096.190000   2.000000  0.000000e+00      0.000000   0.000000  "
      ]
     },
     "execution_count": 95,
     "metadata": {},
     "output_type": "execute_result"
    }
   ],
   "source": [
    "# Bottom 10 avg of size per district in 2019\n",
    "\n",
    "bottom_avg_size = df.groupby(['district']).mean().nsmallest(n=5, columns=['area19'])\n",
    "#.plot(kind='barh')\n",
    "bottom_avg_size"
   ]
  },
  {
   "cell_type": "markdown",
   "id": "57dfb9d2",
   "metadata": {},
   "source": [
    "# 2020"
   ]
  },
  {
   "cell_type": "code",
   "execution_count": 123,
   "id": "8206777e",
   "metadata": {},
   "outputs": [
    {
     "data": {
      "image/png": "[encoded data removed]",
      "text/plain": [
       "<Figure size 432x288 with 1 Axes>"
      ]
     },
     "metadata": {
      "needs_background": "light"
     },
     "output_type": "display_data"
    }
   ],
   "source": [
    "# size avarege per district\n",
    "avg_per_district['district2'] = avg_per_district.index\n",
    "\n",
    "sns.barplot(data=avg_per_district.nlargest(n=5, columns='area20'), x=\"district2\", y=\"area20\")\n",
    "plt.title('homes size avg per district')\n",
    "plt.xlabel('district')\n",
    "plt.ylabel('avg size')\n",
    "plt.show()"
   ]
  },
  {
   "cell_type": "code",
   "execution_count": 122,
   "id": "35c45a7e",
   "metadata": {},
   "outputs": [
    {
     "data": {
      "image/png": "[encoded data removed]",
      "text/plain": [
       "<Figure size 432x288 with 1 Axes>"
      ]
     },
     "metadata": {
      "needs_background": "light"
     },
     "output_type": "display_data"
    }
   ],
   "source": [
    "# price avarege per district\n",
    "avg_per_district['district2'] = avg_per_district.index\n",
    "\n",
    "sns.barplot(data=avg_per_district.nlargest(n=5, columns='price20'), x=\"district2\", y=\"price20\")\n",
    "plt.title('avg of homes prices of 2020 per district')\n",
    "plt.xlabel('district')\n",
    "plt.ylabel('avg price')\n",
    "plt.show()"
   ]
  },
  {
   "cell_type": "code",
   "execution_count": 99,
   "id": "f3470802",
   "metadata": {},
   "outputs": [
    {
     "data": {
      "text/plain": [
       "0.0"
      ]
     },
     "execution_count": 99,
     "metadata": {},
     "output_type": "execute_result"
    }
   ],
   "source": [
    "# Lowest price in 2020\n",
    "df['price20'].min()"
   ]
  },
  {
   "cell_type": "code",
   "execution_count": 100,
   "id": "0cbef57d",
   "metadata": {},
   "outputs": [
    {
     "data": {
      "text/plain": [
       "1163332499.0"
      ]
     },
     "execution_count": 100,
     "metadata": {},
     "output_type": "execute_result"
    }
   ],
   "source": [
    "# Highest price in 2020\n",
    "df['price20'].max()"
   ]
  },
  {
   "cell_type": "code",
   "execution_count": 101,
   "id": "2675cab2",
   "metadata": {},
   "outputs": [
    {
     "data": {
      "text/plain": [
       "16454842.019096117"
      ]
     },
     "execution_count": 101,
     "metadata": {},
     "output_type": "execute_result"
    }
   ],
   "source": [
    "# Avg of all prices in 2020\n",
    "df['price20'].mean()"
   ]
  },
  {
   "cell_type": "code",
   "execution_count": 102,
   "id": "d879ff45",
   "metadata": {},
   "outputs": [
    {
     "data": {
      "text/plain": [
       "0.0"
      ]
     },
     "execution_count": 102,
     "metadata": {},
     "output_type": "execute_result"
    }
   ],
   "source": [
    "# Lowest size in the dataset\n",
    "df['area20'].min()"
   ]
  },
  {
   "cell_type": "code",
   "execution_count": 103,
   "id": "c9da6a4f",
   "metadata": {},
   "outputs": [
    {
     "data": {
      "text/plain": [
       "724442.47"
      ]
     },
     "execution_count": 103,
     "metadata": {},
     "output_type": "execute_result"
    }
   ],
   "source": [
    "# Highest size in 2020\n",
    "df['area20'].max()"
   ]
  },
  {
   "cell_type": "code",
   "execution_count": 104,
   "id": "b8b367d8",
   "metadata": {},
   "outputs": [
    {
     "data": {
      "text/plain": [
       "724442.47"
      ]
     },
     "execution_count": 104,
     "metadata": {},
     "output_type": "execute_result"
    }
   ],
   "source": [
    "# Highest size in 2020\n",
    "df['area20'].max()"
   ]
  },
  {
   "cell_type": "code",
   "execution_count": 105,
   "id": "cb9e77ba",
   "metadata": {},
   "outputs": [
    {
     "data": {
      "text/plain": [
       "13277.376521833236"
      ]
     },
     "execution_count": 105,
     "metadata": {},
     "output_type": "execute_result"
    }
   ],
   "source": [
    "# Avg of all size values in 2020\n",
    "df['area20'].mean()"
   ]
  },
  {
   "cell_type": "code",
   "execution_count": 106,
   "id": "1c667c80",
   "metadata": {},
   "outputs": [
    {
     "data": {
      "text/html": [
       "<div>\n",
       "<style scoped>\n",
       "    .dataframe tbody tr th:only-of-type {\n",
       "        vertical-align: middle;\n",
       "    }\n",
       "\n",
       "    .dataframe tbody tr th {\n",
       "        vertical-align: top;\n",
       "    }\n",
       "\n",
       "    .dataframe thead th {\n",
       "        text-align: right;\n",
       "    }\n",
       "</style>\n",
       "<table border=\"1\" class=\"dataframe\">\n",
       "  <thead>\n",
       "    <tr style=\"text-align: right;\">\n",
       "      <th></th>\n",
       "      <th>price18</th>\n",
       "      <th>area18</th>\n",
       "      <th>deals18</th>\n",
       "      <th>price19</th>\n",
       "      <th>area19</th>\n",
       "      <th>deals19</th>\n",
       "      <th>price20</th>\n",
       "      <th>area20</th>\n",
       "      <th>deals20</th>\n",
       "      <th>price21</th>\n",
       "      <th>area21</th>\n",
       "      <th>deals21</th>\n",
       "    </tr>\n",
       "    <tr>\n",
       "      <th>district</th>\n",
       "      <th></th>\n",
       "      <th></th>\n",
       "      <th></th>\n",
       "      <th></th>\n",
       "      <th></th>\n",
       "      <th></th>\n",
       "      <th></th>\n",
       "      <th></th>\n",
       "      <th></th>\n",
       "      <th></th>\n",
       "      <th></th>\n",
       "      <th></th>\n",
       "    </tr>\n",
       "  </thead>\n",
       "  <tbody>\n",
       "    <tr>\n",
       "      <th>الواحة</th>\n",
       "      <td>1.634484e+07</td>\n",
       "      <td>6709.288083</td>\n",
       "      <td>34.916667</td>\n",
       "      <td>1.996420e+07</td>\n",
       "      <td>8725.644083</td>\n",
       "      <td>32.250000</td>\n",
       "      <td>1.377478e+08</td>\n",
       "      <td>37541.581325</td>\n",
       "      <td>61.666667</td>\n",
       "      <td>3.185003e+07</td>\n",
       "      <td>10191.604167</td>\n",
       "      <td>18.250000</td>\n",
       "    </tr>\n",
       "    <tr>\n",
       "      <th>الصوارى</th>\n",
       "      <td>1.337362e+07</td>\n",
       "      <td>11602.335000</td>\n",
       "      <td>21.916667</td>\n",
       "      <td>3.000595e+07</td>\n",
       "      <td>18780.910583</td>\n",
       "      <td>31.000000</td>\n",
       "      <td>1.199904e+08</td>\n",
       "      <td>58015.554750</td>\n",
       "      <td>77.916667</td>\n",
       "      <td>1.245675e+07</td>\n",
       "      <td>7201.635833</td>\n",
       "      <td>10.583333</td>\n",
       "    </tr>\n",
       "    <tr>\n",
       "      <th>الصفا</th>\n",
       "      <td>3.728071e+07</td>\n",
       "      <td>11927.879167</td>\n",
       "      <td>37.750000</td>\n",
       "      <td>6.347602e+07</td>\n",
       "      <td>21777.065283</td>\n",
       "      <td>76.166667</td>\n",
       "      <td>8.473821e+07</td>\n",
       "      <td>22200.973750</td>\n",
       "      <td>44.833333</td>\n",
       "      <td>2.253863e+07</td>\n",
       "      <td>6511.195383</td>\n",
       "      <td>17.083333</td>\n",
       "    </tr>\n",
       "    <tr>\n",
       "      <th>الشاطئ</th>\n",
       "      <td>5.265979e+07</td>\n",
       "      <td>8275.270000</td>\n",
       "      <td>12.750000</td>\n",
       "      <td>8.913137e+07</td>\n",
       "      <td>11541.151667</td>\n",
       "      <td>22.333333</td>\n",
       "      <td>8.410486e+07</td>\n",
       "      <td>14350.758750</td>\n",
       "      <td>16.583333</td>\n",
       "      <td>1.403357e+07</td>\n",
       "      <td>2285.484833</td>\n",
       "      <td>3.250000</td>\n",
       "    </tr>\n",
       "    <tr>\n",
       "      <th>أبحر الجنوبية</th>\n",
       "      <td>3.645318e+07</td>\n",
       "      <td>9674.172500</td>\n",
       "      <td>14.333333</td>\n",
       "      <td>6.519980e+07</td>\n",
       "      <td>13118.287358</td>\n",
       "      <td>22.500000</td>\n",
       "      <td>6.674761e+07</td>\n",
       "      <td>13307.164917</td>\n",
       "      <td>13.083333</td>\n",
       "      <td>1.850118e+07</td>\n",
       "      <td>4651.220750</td>\n",
       "      <td>7.583333</td>\n",
       "    </tr>\n",
       "  </tbody>\n",
       "</table>\n",
       "</div>"
      ],
      "text/plain": [
       "                    price18        area18    deals18       price19  \\\n",
       "district                                                             \n",
       "الواحة         1.634484e+07   6709.288083  34.916667  1.996420e+07   \n",
       "الصوارى        1.337362e+07  11602.335000  21.916667  3.000595e+07   \n",
       "الصفا          3.728071e+07  11927.879167  37.750000  6.347602e+07   \n",
       "الشاطئ         5.265979e+07   8275.270000  12.750000  8.913137e+07   \n",
       "أبحر الجنوبية  3.645318e+07   9674.172500  14.333333  6.519980e+07   \n",
       "\n",
       "                     area19    deals19       price20        area20    deals20  \\\n",
       "district                                                                        \n",
       "الواحة          8725.644083  32.250000  1.377478e+08  37541.581325  61.666667   \n",
       "الصوارى        18780.910583  31.000000  1.199904e+08  58015.554750  77.916667   \n",
       "الصفا          21777.065283  76.166667  8.473821e+07  22200.973750  44.833333   \n",
       "الشاطئ         11541.151667  22.333333  8.410486e+07  14350.758750  16.583333   \n",
       "أبحر الجنوبية  13118.287358  22.500000  6.674761e+07  13307.164917  13.083333   \n",
       "\n",
       "                    price21        area21    deals21  \n",
       "district                                              \n",
       "الواحة         3.185003e+07  10191.604167  18.250000  \n",
       "الصوارى        1.245675e+07   7201.635833  10.583333  \n",
       "الصفا          2.253863e+07   6511.195383  17.083333  \n",
       "الشاطئ         1.403357e+07   2285.484833   3.250000  \n",
       "أبحر الجنوبية  1.850118e+07   4651.220750   7.583333  "
      ]
     },
     "execution_count": 106,
     "metadata": {},
     "output_type": "execute_result"
    }
   ],
   "source": [
    "# Top 10 avg of prices per district in 2021\n",
    "\n",
    "top_avg_price = df.groupby(['district']).mean().nlargest(n=5, columns=['price20'])\n",
    "#.plot(kind='barh')\n",
    "\n",
    "top_avg_price"
   ]
  },
  {
   "cell_type": "code",
   "execution_count": 107,
   "id": "268c4ba6",
   "metadata": {},
   "outputs": [
    {
     "data": {
      "text/html": [
       "<div>\n",
       "<style scoped>\n",
       "    .dataframe tbody tr th:only-of-type {\n",
       "        vertical-align: middle;\n",
       "    }\n",
       "\n",
       "    .dataframe tbody tr th {\n",
       "        vertical-align: top;\n",
       "    }\n",
       "\n",
       "    .dataframe thead th {\n",
       "        text-align: right;\n",
       "    }\n",
       "</style>\n",
       "<table border=\"1\" class=\"dataframe\">\n",
       "  <thead>\n",
       "    <tr style=\"text-align: right;\">\n",
       "      <th></th>\n",
       "      <th>price18</th>\n",
       "      <th>area18</th>\n",
       "      <th>deals18</th>\n",
       "      <th>price19</th>\n",
       "      <th>area19</th>\n",
       "      <th>deals19</th>\n",
       "      <th>price20</th>\n",
       "      <th>area20</th>\n",
       "      <th>deals20</th>\n",
       "      <th>price21</th>\n",
       "      <th>area21</th>\n",
       "      <th>deals21</th>\n",
       "    </tr>\n",
       "    <tr>\n",
       "      <th>district</th>\n",
       "      <th></th>\n",
       "      <th></th>\n",
       "      <th></th>\n",
       "      <th></th>\n",
       "      <th></th>\n",
       "      <th></th>\n",
       "      <th></th>\n",
       "      <th></th>\n",
       "      <th></th>\n",
       "      <th></th>\n",
       "      <th></th>\n",
       "      <th></th>\n",
       "    </tr>\n",
       "  </thead>\n",
       "  <tbody>\n",
       "    <tr>\n",
       "      <th>ابريل</th>\n",
       "      <td>4050000.0</td>\n",
       "      <td>1023.0</td>\n",
       "      <td>2.0</td>\n",
       "      <td>0.0</td>\n",
       "      <td>0.0</td>\n",
       "      <td>0.0</td>\n",
       "      <td>0.0</td>\n",
       "      <td>0.0</td>\n",
       "      <td>0.0</td>\n",
       "      <td>1200000.0</td>\n",
       "      <td>300.0</td>\n",
       "      <td>1.0</td>\n",
       "    </tr>\n",
       "    <tr>\n",
       "      <th>اكتوبر</th>\n",
       "      <td>0.0</td>\n",
       "      <td>0.0</td>\n",
       "      <td>0.0</td>\n",
       "      <td>1100000.0</td>\n",
       "      <td>495.5</td>\n",
       "      <td>1.0</td>\n",
       "      <td>0.0</td>\n",
       "      <td>0.0</td>\n",
       "      <td>0.0</td>\n",
       "      <td>0.0</td>\n",
       "      <td>0.0</td>\n",
       "      <td>0.0</td>\n",
       "    </tr>\n",
       "    <tr>\n",
       "      <th>ديسمبر</th>\n",
       "      <td>1290700.0</td>\n",
       "      <td>600.0</td>\n",
       "      <td>1.0</td>\n",
       "      <td>0.0</td>\n",
       "      <td>0.0</td>\n",
       "      <td>0.0</td>\n",
       "      <td>0.0</td>\n",
       "      <td>0.0</td>\n",
       "      <td>0.0</td>\n",
       "      <td>0.0</td>\n",
       "      <td>0.0</td>\n",
       "      <td>0.0</td>\n",
       "    </tr>\n",
       "    <tr>\n",
       "      <th>مارس</th>\n",
       "      <td>0.0</td>\n",
       "      <td>0.0</td>\n",
       "      <td>0.0</td>\n",
       "      <td>740000.0</td>\n",
       "      <td>669.0</td>\n",
       "      <td>2.0</td>\n",
       "      <td>0.0</td>\n",
       "      <td>0.0</td>\n",
       "      <td>0.0</td>\n",
       "      <td>0.0</td>\n",
       "      <td>0.0</td>\n",
       "      <td>0.0</td>\n",
       "    </tr>\n",
       "    <tr>\n",
       "      <th>يوليو</th>\n",
       "      <td>675000.0</td>\n",
       "      <td>600.0</td>\n",
       "      <td>1.0</td>\n",
       "      <td>1650000.0</td>\n",
       "      <td>600.0</td>\n",
       "      <td>1.0</td>\n",
       "      <td>0.0</td>\n",
       "      <td>0.0</td>\n",
       "      <td>0.0</td>\n",
       "      <td>0.0</td>\n",
       "      <td>0.0</td>\n",
       "      <td>0.0</td>\n",
       "    </tr>\n",
       "  </tbody>\n",
       "</table>\n",
       "</div>"
      ],
      "text/plain": [
       "            price18  area18  deals18    price19  area19  deals19  price20  \\\n",
       "district                                                                    \n",
       "ابريل     4050000.0  1023.0      2.0        0.0     0.0      0.0      0.0   \n",
       "اكتوبر          0.0     0.0      0.0  1100000.0   495.5      1.0      0.0   \n",
       "ديسمبر    1290700.0   600.0      1.0        0.0     0.0      0.0      0.0   \n",
       "مارس            0.0     0.0      0.0   740000.0   669.0      2.0      0.0   \n",
       "يوليو      675000.0   600.0      1.0  1650000.0   600.0      1.0      0.0   \n",
       "\n",
       "          area20  deals20    price21  area21  deals21  \n",
       "district                                               \n",
       "ابريل        0.0      0.0  1200000.0   300.0      1.0  \n",
       "اكتوبر       0.0      0.0        0.0     0.0      0.0  \n",
       "ديسمبر       0.0      0.0        0.0     0.0      0.0  \n",
       "مارس         0.0      0.0        0.0     0.0      0.0  \n",
       "يوليو        0.0      0.0        0.0     0.0      0.0  "
      ]
     },
     "execution_count": 107,
     "metadata": {},
     "output_type": "execute_result"
    }
   ],
   "source": [
    "# Bottom 10 avg of prices per district 2021\n",
    "\n",
    "bottom_avg_price = df.groupby(['district']).mean().nsmallest(n=5, columns=['price20'])\n",
    "#.plot(kind='barh')\n",
    "\n",
    "bottom_avg_price"
   ]
  },
  {
   "cell_type": "code",
   "execution_count": 108,
   "id": "fdd76f10",
   "metadata": {},
   "outputs": [
    {
     "data": {
      "text/html": [
       "<div>\n",
       "<style scoped>\n",
       "    .dataframe tbody tr th:only-of-type {\n",
       "        vertical-align: middle;\n",
       "    }\n",
       "\n",
       "    .dataframe tbody tr th {\n",
       "        vertical-align: top;\n",
       "    }\n",
       "\n",
       "    .dataframe thead th {\n",
       "        text-align: right;\n",
       "    }\n",
       "</style>\n",
       "<table border=\"1\" class=\"dataframe\">\n",
       "  <thead>\n",
       "    <tr style=\"text-align: right;\">\n",
       "      <th></th>\n",
       "      <th>price18</th>\n",
       "      <th>area18</th>\n",
       "      <th>deals18</th>\n",
       "      <th>price19</th>\n",
       "      <th>area19</th>\n",
       "      <th>deals19</th>\n",
       "      <th>price20</th>\n",
       "      <th>area20</th>\n",
       "      <th>deals20</th>\n",
       "      <th>price21</th>\n",
       "      <th>area21</th>\n",
       "      <th>deals21</th>\n",
       "    </tr>\n",
       "    <tr>\n",
       "      <th>district</th>\n",
       "      <th></th>\n",
       "      <th></th>\n",
       "      <th></th>\n",
       "      <th></th>\n",
       "      <th></th>\n",
       "      <th></th>\n",
       "      <th></th>\n",
       "      <th></th>\n",
       "      <th></th>\n",
       "      <th></th>\n",
       "      <th></th>\n",
       "      <th></th>\n",
       "    </tr>\n",
       "  </thead>\n",
       "  <tbody>\n",
       "    <tr>\n",
       "      <th>جوهرة العروس</th>\n",
       "      <td>1.838938e+07</td>\n",
       "      <td>100978.704583</td>\n",
       "      <td>121.833333</td>\n",
       "      <td>3.721405e+07</td>\n",
       "      <td>154824.068333</td>\n",
       "      <td>189.500000</td>\n",
       "      <td>5.244501e+07</td>\n",
       "      <td>157825.063333</td>\n",
       "      <td>194.416667</td>\n",
       "      <td>3.952962e+07</td>\n",
       "      <td>94129.300833</td>\n",
       "      <td>116.166667</td>\n",
       "    </tr>\n",
       "    <tr>\n",
       "      <th>الندى</th>\n",
       "      <td>0.000000e+00</td>\n",
       "      <td>0.000000</td>\n",
       "      <td>0.000000</td>\n",
       "      <td>3.815909e+04</td>\n",
       "      <td>585.792727</td>\n",
       "      <td>0.636364</td>\n",
       "      <td>1.277444e+07</td>\n",
       "      <td>82085.604545</td>\n",
       "      <td>90.363636</td>\n",
       "      <td>8.411383e+06</td>\n",
       "      <td>42537.386364</td>\n",
       "      <td>46.545455</td>\n",
       "    </tr>\n",
       "    <tr>\n",
       "      <th>أم حبلين</th>\n",
       "      <td>1.982229e+06</td>\n",
       "      <td>2801.566364</td>\n",
       "      <td>1.727273</td>\n",
       "      <td>1.746201e+06</td>\n",
       "      <td>7802.814545</td>\n",
       "      <td>0.909091</td>\n",
       "      <td>4.155644e+07</td>\n",
       "      <td>66155.198182</td>\n",
       "      <td>0.636364</td>\n",
       "      <td>1.773182e+06</td>\n",
       "      <td>1316.800000</td>\n",
       "      <td>2.000000</td>\n",
       "    </tr>\n",
       "    <tr>\n",
       "      <th>الجامعيين</th>\n",
       "      <td>2.339077e+06</td>\n",
       "      <td>14607.383077</td>\n",
       "      <td>12.461538</td>\n",
       "      <td>9.732335e+06</td>\n",
       "      <td>36748.526154</td>\n",
       "      <td>30.461538</td>\n",
       "      <td>2.152571e+07</td>\n",
       "      <td>61203.670769</td>\n",
       "      <td>51.076923</td>\n",
       "      <td>1.199949e+07</td>\n",
       "      <td>25319.613846</td>\n",
       "      <td>21.692308</td>\n",
       "    </tr>\n",
       "    <tr>\n",
       "      <th>الصوارى</th>\n",
       "      <td>1.337362e+07</td>\n",
       "      <td>11602.335000</td>\n",
       "      <td>21.916667</td>\n",
       "      <td>3.000595e+07</td>\n",
       "      <td>18780.910583</td>\n",
       "      <td>31.000000</td>\n",
       "      <td>1.199904e+08</td>\n",
       "      <td>58015.554750</td>\n",
       "      <td>77.916667</td>\n",
       "      <td>1.245675e+07</td>\n",
       "      <td>7201.635833</td>\n",
       "      <td>10.583333</td>\n",
       "    </tr>\n",
       "  </tbody>\n",
       "</table>\n",
       "</div>"
      ],
      "text/plain": [
       "                   price18         area18     deals18       price19  \\\n",
       "district                                                              \n",
       "جوهرة العروس  1.838938e+07  100978.704583  121.833333  3.721405e+07   \n",
       "الندى         0.000000e+00       0.000000    0.000000  3.815909e+04   \n",
       "أم حبلين      1.982229e+06    2801.566364    1.727273  1.746201e+06   \n",
       "الجامعيين     2.339077e+06   14607.383077   12.461538  9.732335e+06   \n",
       "الصوارى       1.337362e+07   11602.335000   21.916667  3.000595e+07   \n",
       "\n",
       "                     area19     deals19       price20         area20  \\\n",
       "district                                                               \n",
       "جوهرة العروس  154824.068333  189.500000  5.244501e+07  157825.063333   \n",
       "الندى            585.792727    0.636364  1.277444e+07   82085.604545   \n",
       "أم حبلين        7802.814545    0.909091  4.155644e+07   66155.198182   \n",
       "الجامعيين      36748.526154   30.461538  2.152571e+07   61203.670769   \n",
       "الصوارى        18780.910583   31.000000  1.199904e+08   58015.554750   \n",
       "\n",
       "                 deals20       price21        area21     deals21  \n",
       "district                                                          \n",
       "جوهرة العروس  194.416667  3.952962e+07  94129.300833  116.166667  \n",
       "الندى          90.363636  8.411383e+06  42537.386364   46.545455  \n",
       "أم حبلين        0.636364  1.773182e+06   1316.800000    2.000000  \n",
       "الجامعيين      51.076923  1.199949e+07  25319.613846   21.692308  \n",
       "الصوارى        77.916667  1.245675e+07   7201.635833   10.583333  "
      ]
     },
     "execution_count": 108,
     "metadata": {},
     "output_type": "execute_result"
    }
   ],
   "source": [
    "# Top 10 avg of size per district in 2020\n",
    "\n",
    "top_avg_size = df.groupby(['district']).mean().nlargest(n=5, columns=['area20'])#.plot(kind='barh')\n",
    "\n",
    "top_avg_size"
   ]
  },
  {
   "cell_type": "code",
   "execution_count": 109,
   "id": "6658615e",
   "metadata": {},
   "outputs": [
    {
     "data": {
      "text/html": [
       "<div>\n",
       "<style scoped>\n",
       "    .dataframe tbody tr th:only-of-type {\n",
       "        vertical-align: middle;\n",
       "    }\n",
       "\n",
       "    .dataframe tbody tr th {\n",
       "        vertical-align: top;\n",
       "    }\n",
       "\n",
       "    .dataframe thead th {\n",
       "        text-align: right;\n",
       "    }\n",
       "</style>\n",
       "<table border=\"1\" class=\"dataframe\">\n",
       "  <thead>\n",
       "    <tr style=\"text-align: right;\">\n",
       "      <th></th>\n",
       "      <th>price18</th>\n",
       "      <th>area18</th>\n",
       "      <th>deals18</th>\n",
       "      <th>price19</th>\n",
       "      <th>area19</th>\n",
       "      <th>deals19</th>\n",
       "      <th>price20</th>\n",
       "      <th>area20</th>\n",
       "      <th>deals20</th>\n",
       "      <th>price21</th>\n",
       "      <th>area21</th>\n",
       "      <th>deals21</th>\n",
       "    </tr>\n",
       "    <tr>\n",
       "      <th>district</th>\n",
       "      <th></th>\n",
       "      <th></th>\n",
       "      <th></th>\n",
       "      <th></th>\n",
       "      <th></th>\n",
       "      <th></th>\n",
       "      <th></th>\n",
       "      <th></th>\n",
       "      <th></th>\n",
       "      <th></th>\n",
       "      <th></th>\n",
       "      <th></th>\n",
       "    </tr>\n",
       "  </thead>\n",
       "  <tbody>\n",
       "    <tr>\n",
       "      <th>ابريل</th>\n",
       "      <td>4050000.0</td>\n",
       "      <td>1023.0</td>\n",
       "      <td>2.0</td>\n",
       "      <td>0.0</td>\n",
       "      <td>0.0</td>\n",
       "      <td>0.0</td>\n",
       "      <td>0.0</td>\n",
       "      <td>0.0</td>\n",
       "      <td>0.0</td>\n",
       "      <td>1200000.0</td>\n",
       "      <td>300.0</td>\n",
       "      <td>1.0</td>\n",
       "    </tr>\n",
       "    <tr>\n",
       "      <th>اكتوبر</th>\n",
       "      <td>0.0</td>\n",
       "      <td>0.0</td>\n",
       "      <td>0.0</td>\n",
       "      <td>1100000.0</td>\n",
       "      <td>495.5</td>\n",
       "      <td>1.0</td>\n",
       "      <td>0.0</td>\n",
       "      <td>0.0</td>\n",
       "      <td>0.0</td>\n",
       "      <td>0.0</td>\n",
       "      <td>0.0</td>\n",
       "      <td>0.0</td>\n",
       "    </tr>\n",
       "    <tr>\n",
       "      <th>ديسمبر</th>\n",
       "      <td>1290700.0</td>\n",
       "      <td>600.0</td>\n",
       "      <td>1.0</td>\n",
       "      <td>0.0</td>\n",
       "      <td>0.0</td>\n",
       "      <td>0.0</td>\n",
       "      <td>0.0</td>\n",
       "      <td>0.0</td>\n",
       "      <td>0.0</td>\n",
       "      <td>0.0</td>\n",
       "      <td>0.0</td>\n",
       "      <td>0.0</td>\n",
       "    </tr>\n",
       "    <tr>\n",
       "      <th>مارس</th>\n",
       "      <td>0.0</td>\n",
       "      <td>0.0</td>\n",
       "      <td>0.0</td>\n",
       "      <td>740000.0</td>\n",
       "      <td>669.0</td>\n",
       "      <td>2.0</td>\n",
       "      <td>0.0</td>\n",
       "      <td>0.0</td>\n",
       "      <td>0.0</td>\n",
       "      <td>0.0</td>\n",
       "      <td>0.0</td>\n",
       "      <td>0.0</td>\n",
       "    </tr>\n",
       "    <tr>\n",
       "      <th>يوليو</th>\n",
       "      <td>675000.0</td>\n",
       "      <td>600.0</td>\n",
       "      <td>1.0</td>\n",
       "      <td>1650000.0</td>\n",
       "      <td>600.0</td>\n",
       "      <td>1.0</td>\n",
       "      <td>0.0</td>\n",
       "      <td>0.0</td>\n",
       "      <td>0.0</td>\n",
       "      <td>0.0</td>\n",
       "      <td>0.0</td>\n",
       "      <td>0.0</td>\n",
       "    </tr>\n",
       "  </tbody>\n",
       "</table>\n",
       "</div>"
      ],
      "text/plain": [
       "            price18  area18  deals18    price19  area19  deals19  price20  \\\n",
       "district                                                                    \n",
       "ابريل     4050000.0  1023.0      2.0        0.0     0.0      0.0      0.0   \n",
       "اكتوبر          0.0     0.0      0.0  1100000.0   495.5      1.0      0.0   \n",
       "ديسمبر    1290700.0   600.0      1.0        0.0     0.0      0.0      0.0   \n",
       "مارس            0.0     0.0      0.0   740000.0   669.0      2.0      0.0   \n",
       "يوليو      675000.0   600.0      1.0  1650000.0   600.0      1.0      0.0   \n",
       "\n",
       "          area20  deals20    price21  area21  deals21  \n",
       "district                                               \n",
       "ابريل        0.0      0.0  1200000.0   300.0      1.0  \n",
       "اكتوبر       0.0      0.0        0.0     0.0      0.0  \n",
       "ديسمبر       0.0      0.0        0.0     0.0      0.0  \n",
       "مارس         0.0      0.0        0.0     0.0      0.0  \n",
       "يوليو        0.0      0.0        0.0     0.0      0.0  "
      ]
     },
     "execution_count": 109,
     "metadata": {},
     "output_type": "execute_result"
    }
   ],
   "source": [
    "# Bottom 10 avg of size per district in 2020\n",
    "\n",
    "bottom_avg_size = df.groupby(['district']).mean().nsmallest(n=5, columns=['area20'])\n",
    "#.plot(kind='barh')\n",
    "bottom_avg_size"
   ]
  },
  {
   "cell_type": "markdown",
   "id": "0c18272a",
   "metadata": {},
   "source": [
    "# 2021"
   ]
  },
  {
   "cell_type": "code",
   "execution_count": 119,
   "id": "4f8e27cc",
   "metadata": {},
   "outputs": [
    {
     "data": {
      "image/png": "[encoded data removed]",
      "text/plain": [
       "<Figure size 432x288 with 1 Axes>"
      ]
     },
     "metadata": {
      "needs_background": "light"
     },
     "output_type": "display_data"
    }
   ],
   "source": [
    "# size avarege per district\n",
    "avg_per_district['district2'] = avg_per_district.index\n",
    "\n",
    "sns.barplot(data=avg_per_district.nlargest(n=5, columns='area20'), x=\"district2\", y=\"area20\")\n",
    "plt.title('homes size avg per district')\n",
    "plt.xlabel('district')\n",
    "plt.ylabel('avg size')\n",
    "plt.show()"
   ]
  },
  {
   "cell_type": "code",
   "execution_count": 120,
   "id": "c4a2a694",
   "metadata": {},
   "outputs": [
    {
     "data": {
      "image/png": "[encoded data removed]",
      "text/plain": [
       "<Figure size 432x288 with 1 Axes>"
      ]
     },
     "metadata": {
      "needs_background": "light"
     },
     "output_type": "display_data"
    }
   ],
   "source": [
    "# price avarege per district\n",
    "avg_per_district['district2'] = avg_per_district.index\n",
    "\n",
    "sns.barplot(data=avg_per_district.nlargest(n=5, columns='price21'), x=\"district2\", y=\"price21\")\n",
    "plt.title('avg of homes prices of 2021 per district')\n",
    "plt.xlabel('district')\n",
    "plt.ylabel('avg price')\n",
    "plt.show()"
   ]
  },
  {
   "cell_type": "code",
   "execution_count": 121,
   "id": "abb4b4c9",
   "metadata": {},
   "outputs": [
    {
     "data": {
      "text/plain": [
       "0.0"
      ]
     },
     "execution_count": 121,
     "metadata": {},
     "output_type": "execute_result"
    }
   ],
   "source": [
    "# Lowest price in 2021\n",
    "df['price21'].min()"
   ]
  },
  {
   "cell_type": "code",
   "execution_count": 113,
   "id": "b09ac48f",
   "metadata": {},
   "outputs": [
    {
     "data": {
      "text/plain": [
       "994122397.0"
      ]
     },
     "execution_count": 113,
     "metadata": {},
     "output_type": "execute_result"
    }
   ],
   "source": [
    "# Highest price in 2021\n",
    "df['price21'].max()"
   ]
  },
  {
   "cell_type": "code",
   "execution_count": 114,
   "id": "9b4ce52a",
   "metadata": {},
   "outputs": [
    {
     "data": {
      "text/plain": [
       "7203574.184595799"
      ]
     },
     "execution_count": 114,
     "metadata": {},
     "output_type": "execute_result"
    }
   ],
   "source": [
    "# Avg of all prices in 2021\n",
    "df['price21'].mean()"
   ]
  },
  {
   "cell_type": "code",
   "execution_count": 115,
   "id": "72d375f2",
   "metadata": {},
   "outputs": [
    {
     "data": {
      "text/plain": [
       "0.0"
      ]
     },
     "execution_count": 115,
     "metadata": {},
     "output_type": "execute_result"
    }
   ],
   "source": [
    "# Lowest size in the dataset\n",
    "df['area21'].min()"
   ]
  },
  {
   "cell_type": "code",
   "execution_count": 116,
   "id": "121f0481",
   "metadata": {},
   "outputs": [
    {
     "data": {
      "text/plain": [
       "349084.83"
      ]
     },
     "execution_count": 116,
     "metadata": {},
     "output_type": "execute_result"
    }
   ],
   "source": [
    "# Highest size in 2021\n",
    "df['area21'].max()"
   ]
  },
  {
   "cell_type": "code",
   "execution_count": 117,
   "id": "162d63da",
   "metadata": {},
   "outputs": [
    {
     "data": {
      "text/plain": [
       "5935.0231897517515"
      ]
     },
     "execution_count": 117,
     "metadata": {},
     "output_type": "execute_result"
    }
   ],
   "source": [
    "# Avg of all size values in 2021\n",
    "df['area21'].mean()"
   ]
  },
  {
   "cell_type": "code",
   "execution_count": 118,
   "id": "ae8aae49",
   "metadata": {},
   "outputs": [
    {
     "data": {
      "text/html": [
       "<div>\n",
       "<style scoped>\n",
       "    .dataframe tbody tr th:only-of-type {\n",
       "        vertical-align: middle;\n",
       "    }\n",
       "\n",
       "    .dataframe tbody tr th {\n",
       "        vertical-align: top;\n",
       "    }\n",
       "\n",
       "    .dataframe thead th {\n",
       "        text-align: right;\n",
       "    }\n",
       "</style>\n",
       "<table border=\"1\" class=\"dataframe\">\n",
       "  <thead>\n",
       "    <tr style=\"text-align: right;\">\n",
       "      <th></th>\n",
       "      <th>price18</th>\n",
       "      <th>area18</th>\n",
       "      <th>deals18</th>\n",
       "      <th>price19</th>\n",
       "      <th>area19</th>\n",
       "      <th>deals19</th>\n",
       "      <th>price20</th>\n",
       "      <th>area20</th>\n",
       "      <th>deals20</th>\n",
       "      <th>price21</th>\n",
       "      <th>area21</th>\n",
       "      <th>deals21</th>\n",
       "    </tr>\n",
       "    <tr>\n",
       "      <th>district</th>\n",
       "      <th></th>\n",
       "      <th></th>\n",
       "      <th></th>\n",
       "      <th></th>\n",
       "      <th></th>\n",
       "      <th></th>\n",
       "      <th></th>\n",
       "      <th></th>\n",
       "      <th></th>\n",
       "      <th></th>\n",
       "      <th></th>\n",
       "      <th></th>\n",
       "    </tr>\n",
       "  </thead>\n",
       "  <tbody>\n",
       "    <tr>\n",
       "      <th>المحمدية</th>\n",
       "      <td>7.971655e+07</td>\n",
       "      <td>30220.912292</td>\n",
       "      <td>11.666667</td>\n",
       "      <td>3.169236e+07</td>\n",
       "      <td>7271.102833</td>\n",
       "      <td>12.750000</td>\n",
       "      <td>4.238335e+07</td>\n",
       "      <td>6883.940000</td>\n",
       "      <td>10.416667</td>\n",
       "      <td>8.994889e+07</td>\n",
       "      <td>17771.134167</td>\n",
       "      <td>5.333333</td>\n",
       "    </tr>\n",
       "    <tr>\n",
       "      <th>جوهرة العروس</th>\n",
       "      <td>1.838938e+07</td>\n",
       "      <td>100978.704583</td>\n",
       "      <td>121.833333</td>\n",
       "      <td>3.721405e+07</td>\n",
       "      <td>154824.068333</td>\n",
       "      <td>189.500000</td>\n",
       "      <td>5.244501e+07</td>\n",
       "      <td>157825.063333</td>\n",
       "      <td>194.416667</td>\n",
       "      <td>3.952962e+07</td>\n",
       "      <td>94129.300833</td>\n",
       "      <td>116.166667</td>\n",
       "    </tr>\n",
       "    <tr>\n",
       "      <th>الواحة</th>\n",
       "      <td>1.634484e+07</td>\n",
       "      <td>6709.288083</td>\n",
       "      <td>34.916667</td>\n",
       "      <td>1.996420e+07</td>\n",
       "      <td>8725.644083</td>\n",
       "      <td>32.250000</td>\n",
       "      <td>1.377478e+08</td>\n",
       "      <td>37541.581325</td>\n",
       "      <td>61.666667</td>\n",
       "      <td>3.185003e+07</td>\n",
       "      <td>10191.604167</td>\n",
       "      <td>18.250000</td>\n",
       "    </tr>\n",
       "    <tr>\n",
       "      <th>ابحر الشمالية</th>\n",
       "      <td>1.770370e+08</td>\n",
       "      <td>274420.572250</td>\n",
       "      <td>20.000000</td>\n",
       "      <td>3.885426e+07</td>\n",
       "      <td>17038.273333</td>\n",
       "      <td>26.000000</td>\n",
       "      <td>4.656326e+07</td>\n",
       "      <td>31058.673083</td>\n",
       "      <td>30.750000</td>\n",
       "      <td>3.006561e+07</td>\n",
       "      <td>14050.325000</td>\n",
       "      <td>15.833333</td>\n",
       "    </tr>\n",
       "    <tr>\n",
       "      <th>الحمراء</th>\n",
       "      <td>3.355743e+07</td>\n",
       "      <td>4285.395000</td>\n",
       "      <td>6.250000</td>\n",
       "      <td>4.316303e+07</td>\n",
       "      <td>5519.997917</td>\n",
       "      <td>5.583333</td>\n",
       "      <td>9.181786e+06</td>\n",
       "      <td>1760.566667</td>\n",
       "      <td>4.083333</td>\n",
       "      <td>2.434038e+07</td>\n",
       "      <td>1778.128333</td>\n",
       "      <td>2.083333</td>\n",
       "    </tr>\n",
       "  </tbody>\n",
       "</table>\n",
       "</div>"
      ],
      "text/plain": [
       "                    price18         area18     deals18       price19  \\\n",
       "district                                                               \n",
       "المحمدية       7.971655e+07   30220.912292   11.666667  3.169236e+07   \n",
       "جوهرة العروس   1.838938e+07  100978.704583  121.833333  3.721405e+07   \n",
       "الواحة         1.634484e+07    6709.288083   34.916667  1.996420e+07   \n",
       "ابحر الشمالية  1.770370e+08  274420.572250   20.000000  3.885426e+07   \n",
       "الحمراء        3.355743e+07    4285.395000    6.250000  4.316303e+07   \n",
       "\n",
       "                      area19     deals19       price20         area20  \\\n",
       "district                                                                \n",
       "المحمدية         7271.102833   12.750000  4.238335e+07    6883.940000   \n",
       "جوهرة العروس   154824.068333  189.500000  5.244501e+07  157825.063333   \n",
       "الواحة           8725.644083   32.250000  1.377478e+08   37541.581325   \n",
       "ابحر الشمالية   17038.273333   26.000000  4.656326e+07   31058.673083   \n",
       "الحمراء          5519.997917    5.583333  9.181786e+06    1760.566667   \n",
       "\n",
       "                  deals20       price21        area21     deals21  \n",
       "district                                                           \n",
       "المحمدية        10.416667  8.994889e+07  17771.134167    5.333333  \n",
       "جوهرة العروس   194.416667  3.952962e+07  94129.300833  116.166667  \n",
       "الواحة          61.666667  3.185003e+07  10191.604167   18.250000  \n",
       "ابحر الشمالية   30.750000  3.006561e+07  14050.325000   15.833333  \n",
       "الحمراء          4.083333  2.434038e+07   1778.128333    2.083333  "
      ]
     },
     "execution_count": 118,
     "metadata": {},
     "output_type": "execute_result"
    }
   ],
   "source": [
    "# Top 10 avg of prices per district in 2021\n",
    "\n",
    "top_avg_price = df.groupby(['district']).mean().nlargest(n=5, columns=['price21'])\n",
    "#.plot(kind='barh')\n",
    "\n",
    "top_avg_price"
   ]
  },
  {
   "cell_type": "code",
   "execution_count": 69,
   "id": "a2cf2199",
   "metadata": {},
   "outputs": [
    {
     "data": {
      "text/html": [
       "<div>\n",
       "<style scoped>\n",
       "    .dataframe tbody tr th:only-of-type {\n",
       "        vertical-align: middle;\n",
       "    }\n",
       "\n",
       "    .dataframe tbody tr th {\n",
       "        vertical-align: top;\n",
       "    }\n",
       "\n",
       "    .dataframe thead th {\n",
       "        text-align: right;\n",
       "    }\n",
       "</style>\n",
       "<table border=\"1\" class=\"dataframe\">\n",
       "  <thead>\n",
       "    <tr style=\"text-align: right;\">\n",
       "      <th></th>\n",
       "      <th>price18</th>\n",
       "      <th>area18</th>\n",
       "      <th>deals18</th>\n",
       "      <th>price19</th>\n",
       "      <th>area19</th>\n",
       "      <th>deals19</th>\n",
       "      <th>price20</th>\n",
       "      <th>area20</th>\n",
       "      <th>deals20</th>\n",
       "      <th>price21</th>\n",
       "      <th>area21</th>\n",
       "      <th>deals21</th>\n",
       "    </tr>\n",
       "    <tr>\n",
       "      <th>district</th>\n",
       "      <th></th>\n",
       "      <th></th>\n",
       "      <th></th>\n",
       "      <th></th>\n",
       "      <th></th>\n",
       "      <th></th>\n",
       "      <th></th>\n",
       "      <th></th>\n",
       "      <th></th>\n",
       "      <th></th>\n",
       "      <th></th>\n",
       "      <th></th>\n",
       "    </tr>\n",
       "  </thead>\n",
       "  <tbody>\n",
       "    <tr>\n",
       "      <th>اكتوبر</th>\n",
       "      <td>0.0</td>\n",
       "      <td>0.0</td>\n",
       "      <td>0.0</td>\n",
       "      <td>1100000.0</td>\n",
       "      <td>495.5</td>\n",
       "      <td>1.0</td>\n",
       "      <td>0.0</td>\n",
       "      <td>0.00</td>\n",
       "      <td>0.0</td>\n",
       "      <td>0.0</td>\n",
       "      <td>0.0</td>\n",
       "      <td>0.0</td>\n",
       "    </tr>\n",
       "    <tr>\n",
       "      <th>اوغسطس</th>\n",
       "      <td>1181564.0</td>\n",
       "      <td>600.0</td>\n",
       "      <td>1.0</td>\n",
       "      <td>0.0</td>\n",
       "      <td>0.0</td>\n",
       "      <td>0.0</td>\n",
       "      <td>684517.0</td>\n",
       "      <td>3096.19</td>\n",
       "      <td>2.0</td>\n",
       "      <td>0.0</td>\n",
       "      <td>0.0</td>\n",
       "      <td>0.0</td>\n",
       "    </tr>\n",
       "    <tr>\n",
       "      <th>ديسمبر</th>\n",
       "      <td>1290700.0</td>\n",
       "      <td>600.0</td>\n",
       "      <td>1.0</td>\n",
       "      <td>0.0</td>\n",
       "      <td>0.0</td>\n",
       "      <td>0.0</td>\n",
       "      <td>0.0</td>\n",
       "      <td>0.00</td>\n",
       "      <td>0.0</td>\n",
       "      <td>0.0</td>\n",
       "      <td>0.0</td>\n",
       "      <td>0.0</td>\n",
       "    </tr>\n",
       "    <tr>\n",
       "      <th>سبتمبر</th>\n",
       "      <td>0.0</td>\n",
       "      <td>0.0</td>\n",
       "      <td>0.0</td>\n",
       "      <td>0.0</td>\n",
       "      <td>0.0</td>\n",
       "      <td>0.0</td>\n",
       "      <td>350000.0</td>\n",
       "      <td>647.22</td>\n",
       "      <td>1.0</td>\n",
       "      <td>0.0</td>\n",
       "      <td>0.0</td>\n",
       "      <td>0.0</td>\n",
       "    </tr>\n",
       "    <tr>\n",
       "      <th>فبراير</th>\n",
       "      <td>0.0</td>\n",
       "      <td>0.0</td>\n",
       "      <td>0.0</td>\n",
       "      <td>0.0</td>\n",
       "      <td>0.0</td>\n",
       "      <td>0.0</td>\n",
       "      <td>600000.0</td>\n",
       "      <td>562.50</td>\n",
       "      <td>1.0</td>\n",
       "      <td>0.0</td>\n",
       "      <td>0.0</td>\n",
       "      <td>0.0</td>\n",
       "    </tr>\n",
       "  </tbody>\n",
       "</table>\n",
       "</div>"
      ],
      "text/plain": [
       "            price18  area18  deals18    price19  area19  deals19   price20  \\\n",
       "district                                                                     \n",
       "اكتوبر          0.0     0.0      0.0  1100000.0   495.5      1.0       0.0   \n",
       "اوغسطس    1181564.0   600.0      1.0        0.0     0.0      0.0  684517.0   \n",
       "ديسمبر    1290700.0   600.0      1.0        0.0     0.0      0.0       0.0   \n",
       "سبتمبر          0.0     0.0      0.0        0.0     0.0      0.0  350000.0   \n",
       "فبراير          0.0     0.0      0.0        0.0     0.0      0.0  600000.0   \n",
       "\n",
       "           area20  deals20  price21  area21  deals21  \n",
       "district                                              \n",
       "اكتوبر       0.00      0.0      0.0     0.0      0.0  \n",
       "اوغسطس    3096.19      2.0      0.0     0.0      0.0  \n",
       "ديسمبر       0.00      0.0      0.0     0.0      0.0  \n",
       "سبتمبر     647.22      1.0      0.0     0.0      0.0  \n",
       "فبراير     562.50      1.0      0.0     0.0      0.0  "
      ]
     },
     "execution_count": 69,
     "metadata": {},
     "output_type": "execute_result"
    }
   ],
   "source": [
    "# Bottom 10 avg of prices per district 2021\n",
    "\n",
    "bottom_avg_price = df.groupby(['district']).mean().nsmallest(n=5, columns=['price21'])\n",
    "#.plot(kind='barh')\n",
    "\n",
    "bottom_avg_price"
   ]
  },
  {
   "cell_type": "code",
   "execution_count": 70,
   "id": "c41997f1",
   "metadata": {},
   "outputs": [
    {
     "data": {
      "text/html": [
       "<div>\n",
       "<style scoped>\n",
       "    .dataframe tbody tr th:only-of-type {\n",
       "        vertical-align: middle;\n",
       "    }\n",
       "\n",
       "    .dataframe tbody tr th {\n",
       "        vertical-align: top;\n",
       "    }\n",
       "\n",
       "    .dataframe thead th {\n",
       "        text-align: right;\n",
       "    }\n",
       "</style>\n",
       "<table border=\"1\" class=\"dataframe\">\n",
       "  <thead>\n",
       "    <tr style=\"text-align: right;\">\n",
       "      <th></th>\n",
       "      <th>price18</th>\n",
       "      <th>area18</th>\n",
       "      <th>deals18</th>\n",
       "      <th>price19</th>\n",
       "      <th>area19</th>\n",
       "      <th>deals19</th>\n",
       "      <th>price20</th>\n",
       "      <th>area20</th>\n",
       "      <th>deals20</th>\n",
       "      <th>price21</th>\n",
       "      <th>area21</th>\n",
       "      <th>deals21</th>\n",
       "    </tr>\n",
       "    <tr>\n",
       "      <th>district</th>\n",
       "      <th></th>\n",
       "      <th></th>\n",
       "      <th></th>\n",
       "      <th></th>\n",
       "      <th></th>\n",
       "      <th></th>\n",
       "      <th></th>\n",
       "      <th></th>\n",
       "      <th></th>\n",
       "      <th></th>\n",
       "      <th></th>\n",
       "      <th></th>\n",
       "    </tr>\n",
       "  </thead>\n",
       "  <tbody>\n",
       "    <tr>\n",
       "      <th>جوهرة العروس</th>\n",
       "      <td>1.838938e+07</td>\n",
       "      <td>100978.704583</td>\n",
       "      <td>121.833333</td>\n",
       "      <td>3.721405e+07</td>\n",
       "      <td>154824.068333</td>\n",
       "      <td>189.500000</td>\n",
       "      <td>5.244501e+07</td>\n",
       "      <td>157825.063333</td>\n",
       "      <td>194.416667</td>\n",
       "      <td>3.952962e+07</td>\n",
       "      <td>94129.300833</td>\n",
       "      <td>116.166667</td>\n",
       "    </tr>\n",
       "    <tr>\n",
       "      <th>ذهبان</th>\n",
       "      <td>2.937596e+06</td>\n",
       "      <td>51604.933500</td>\n",
       "      <td>4.916667</td>\n",
       "      <td>6.155837e+06</td>\n",
       "      <td>13298.606667</td>\n",
       "      <td>6.833333</td>\n",
       "      <td>9.724140e+06</td>\n",
       "      <td>27511.349167</td>\n",
       "      <td>7.500000</td>\n",
       "      <td>5.792241e+06</td>\n",
       "      <td>47424.525833</td>\n",
       "      <td>2.583333</td>\n",
       "    </tr>\n",
       "    <tr>\n",
       "      <th>الندى</th>\n",
       "      <td>0.000000e+00</td>\n",
       "      <td>0.000000</td>\n",
       "      <td>0.000000</td>\n",
       "      <td>3.815909e+04</td>\n",
       "      <td>585.792727</td>\n",
       "      <td>0.636364</td>\n",
       "      <td>1.277444e+07</td>\n",
       "      <td>82085.604545</td>\n",
       "      <td>90.363636</td>\n",
       "      <td>8.411383e+06</td>\n",
       "      <td>42537.386364</td>\n",
       "      <td>46.545455</td>\n",
       "    </tr>\n",
       "    <tr>\n",
       "      <th>الخليج</th>\n",
       "      <td>5.191089e+06</td>\n",
       "      <td>16565.582500</td>\n",
       "      <td>17.083333</td>\n",
       "      <td>1.804032e+07</td>\n",
       "      <td>42348.578333</td>\n",
       "      <td>47.416667</td>\n",
       "      <td>2.462562e+07</td>\n",
       "      <td>49571.369167</td>\n",
       "      <td>54.666667</td>\n",
       "      <td>2.055617e+07</td>\n",
       "      <td>30968.980833</td>\n",
       "      <td>32.083333</td>\n",
       "    </tr>\n",
       "    <tr>\n",
       "      <th>الهجرة</th>\n",
       "      <td>1.174416e+06</td>\n",
       "      <td>16483.775833</td>\n",
       "      <td>18.000000</td>\n",
       "      <td>2.874371e+06</td>\n",
       "      <td>27775.361667</td>\n",
       "      <td>31.500000</td>\n",
       "      <td>3.754123e+06</td>\n",
       "      <td>30705.125000</td>\n",
       "      <td>34.750000</td>\n",
       "      <td>4.865250e+06</td>\n",
       "      <td>30002.625000</td>\n",
       "      <td>34.666667</td>\n",
       "    </tr>\n",
       "  </tbody>\n",
       "</table>\n",
       "</div>"
      ],
      "text/plain": [
       "                   price18         area18     deals18       price19  \\\n",
       "district                                                              \n",
       "جوهرة العروس  1.838938e+07  100978.704583  121.833333  3.721405e+07   \n",
       "ذهبان         2.937596e+06   51604.933500    4.916667  6.155837e+06   \n",
       "الندى         0.000000e+00       0.000000    0.000000  3.815909e+04   \n",
       "الخليج        5.191089e+06   16565.582500   17.083333  1.804032e+07   \n",
       "الهجرة        1.174416e+06   16483.775833   18.000000  2.874371e+06   \n",
       "\n",
       "                     area19     deals19       price20         area20  \\\n",
       "district                                                               \n",
       "جوهرة العروس  154824.068333  189.500000  5.244501e+07  157825.063333   \n",
       "ذهبان          13298.606667    6.833333  9.724140e+06   27511.349167   \n",
       "الندى            585.792727    0.636364  1.277444e+07   82085.604545   \n",
       "الخليج         42348.578333   47.416667  2.462562e+07   49571.369167   \n",
       "الهجرة         27775.361667   31.500000  3.754123e+06   30705.125000   \n",
       "\n",
       "                 deals20       price21        area21     deals21  \n",
       "district                                                          \n",
       "جوهرة العروس  194.416667  3.952962e+07  94129.300833  116.166667  \n",
       "ذهبان           7.500000  5.792241e+06  47424.525833    2.583333  \n",
       "الندى          90.363636  8.411383e+06  42537.386364   46.545455  \n",
       "الخليج         54.666667  2.055617e+07  30968.980833   32.083333  \n",
       "الهجرة         34.750000  4.865250e+06  30002.625000   34.666667  "
      ]
     },
     "execution_count": 70,
     "metadata": {},
     "output_type": "execute_result"
    }
   ],
   "source": [
    "# Top 10 avg of size per district in 2021\n",
    "\n",
    "top_avg_size = df.groupby(['district']).mean().nlargest(n=5, columns=['area21'])#.plot(kind='barh')\n",
    "\n",
    "top_avg_size"
   ]
  },
  {
   "cell_type": "code",
   "execution_count": 71,
   "id": "ad9955f9",
   "metadata": {},
   "outputs": [
    {
     "data": {
      "text/html": [
       "<div>\n",
       "<style scoped>\n",
       "    .dataframe tbody tr th:only-of-type {\n",
       "        vertical-align: middle;\n",
       "    }\n",
       "\n",
       "    .dataframe tbody tr th {\n",
       "        vertical-align: top;\n",
       "    }\n",
       "\n",
       "    .dataframe thead th {\n",
       "        text-align: right;\n",
       "    }\n",
       "</style>\n",
       "<table border=\"1\" class=\"dataframe\">\n",
       "  <thead>\n",
       "    <tr style=\"text-align: right;\">\n",
       "      <th></th>\n",
       "      <th>price18</th>\n",
       "      <th>area18</th>\n",
       "      <th>deals18</th>\n",
       "      <th>price19</th>\n",
       "      <th>area19</th>\n",
       "      <th>deals19</th>\n",
       "      <th>price20</th>\n",
       "      <th>area20</th>\n",
       "      <th>deals20</th>\n",
       "      <th>price21</th>\n",
       "      <th>area21</th>\n",
       "      <th>deals21</th>\n",
       "    </tr>\n",
       "    <tr>\n",
       "      <th>district</th>\n",
       "      <th></th>\n",
       "      <th></th>\n",
       "      <th></th>\n",
       "      <th></th>\n",
       "      <th></th>\n",
       "      <th></th>\n",
       "      <th></th>\n",
       "      <th></th>\n",
       "      <th></th>\n",
       "      <th></th>\n",
       "      <th></th>\n",
       "      <th></th>\n",
       "    </tr>\n",
       "  </thead>\n",
       "  <tbody>\n",
       "    <tr>\n",
       "      <th>اكتوبر</th>\n",
       "      <td>0.0</td>\n",
       "      <td>0.0</td>\n",
       "      <td>0.0</td>\n",
       "      <td>1100000.0</td>\n",
       "      <td>495.5</td>\n",
       "      <td>1.0</td>\n",
       "      <td>0.0</td>\n",
       "      <td>0.00</td>\n",
       "      <td>0.0</td>\n",
       "      <td>0.0</td>\n",
       "      <td>0.0</td>\n",
       "      <td>0.0</td>\n",
       "    </tr>\n",
       "    <tr>\n",
       "      <th>اوغسطس</th>\n",
       "      <td>1181564.0</td>\n",
       "      <td>600.0</td>\n",
       "      <td>1.0</td>\n",
       "      <td>0.0</td>\n",
       "      <td>0.0</td>\n",
       "      <td>0.0</td>\n",
       "      <td>684517.0</td>\n",
       "      <td>3096.19</td>\n",
       "      <td>2.0</td>\n",
       "      <td>0.0</td>\n",
       "      <td>0.0</td>\n",
       "      <td>0.0</td>\n",
       "    </tr>\n",
       "    <tr>\n",
       "      <th>ديسمبر</th>\n",
       "      <td>1290700.0</td>\n",
       "      <td>600.0</td>\n",
       "      <td>1.0</td>\n",
       "      <td>0.0</td>\n",
       "      <td>0.0</td>\n",
       "      <td>0.0</td>\n",
       "      <td>0.0</td>\n",
       "      <td>0.00</td>\n",
       "      <td>0.0</td>\n",
       "      <td>0.0</td>\n",
       "      <td>0.0</td>\n",
       "      <td>0.0</td>\n",
       "    </tr>\n",
       "    <tr>\n",
       "      <th>سبتمبر</th>\n",
       "      <td>0.0</td>\n",
       "      <td>0.0</td>\n",
       "      <td>0.0</td>\n",
       "      <td>0.0</td>\n",
       "      <td>0.0</td>\n",
       "      <td>0.0</td>\n",
       "      <td>350000.0</td>\n",
       "      <td>647.22</td>\n",
       "      <td>1.0</td>\n",
       "      <td>0.0</td>\n",
       "      <td>0.0</td>\n",
       "      <td>0.0</td>\n",
       "    </tr>\n",
       "    <tr>\n",
       "      <th>فبراير</th>\n",
       "      <td>0.0</td>\n",
       "      <td>0.0</td>\n",
       "      <td>0.0</td>\n",
       "      <td>0.0</td>\n",
       "      <td>0.0</td>\n",
       "      <td>0.0</td>\n",
       "      <td>600000.0</td>\n",
       "      <td>562.50</td>\n",
       "      <td>1.0</td>\n",
       "      <td>0.0</td>\n",
       "      <td>0.0</td>\n",
       "      <td>0.0</td>\n",
       "    </tr>\n",
       "  </tbody>\n",
       "</table>\n",
       "</div>"
      ],
      "text/plain": [
       "            price18  area18  deals18    price19  area19  deals19   price20  \\\n",
       "district                                                                     \n",
       "اكتوبر          0.0     0.0      0.0  1100000.0   495.5      1.0       0.0   \n",
       "اوغسطس    1181564.0   600.0      1.0        0.0     0.0      0.0  684517.0   \n",
       "ديسمبر    1290700.0   600.0      1.0        0.0     0.0      0.0       0.0   \n",
       "سبتمبر          0.0     0.0      0.0        0.0     0.0      0.0  350000.0   \n",
       "فبراير          0.0     0.0      0.0        0.0     0.0      0.0  600000.0   \n",
       "\n",
       "           area20  deals20  price21  area21  deals21  \n",
       "district                                              \n",
       "اكتوبر       0.00      0.0      0.0     0.0      0.0  \n",
       "اوغسطس    3096.19      2.0      0.0     0.0      0.0  \n",
       "ديسمبر       0.00      0.0      0.0     0.0      0.0  \n",
       "سبتمبر     647.22      1.0      0.0     0.0      0.0  \n",
       "فبراير     562.50      1.0      0.0     0.0      0.0  "
      ]
     },
     "execution_count": 71,
     "metadata": {},
     "output_type": "execute_result"
    }
   ],
   "source": [
    "# Bottom 10 avg of size per district in 2021\n",
    "\n",
    "bottom_avg_size = df.groupby(['district']).mean().nsmallest(n=5, columns=['area21'])\n",
    "#.plot(kind='barh')\n",
    "bottom_avg_size"
   ]
  },
  {
   "cell_type": "markdown",
   "id": "73d3ff77",
   "metadata": {},
   "source": [
    " # predicting the top 5  Districts have most deals.  "
   ]
  },
  {
   "cell_type": "markdown",
   "id": "bc10d1ce",
   "metadata": {},
   "source": [
    "### 1. Prince Fawaz neighborhood"
   ]
  },
  {
   "cell_type": "code",
   "execution_count": 124,
   "id": "ea7f1b39",
   "metadata": {
    "scrolled": true
   },
   "outputs": [],
   "source": [
    "predict_F = pd.read_excel('predict_fw.xlsx')\n",
    "#predict_F\n"
   ]
  },
  {
   "cell_type": "code",
   "execution_count": 125,
   "id": "63856d18",
   "metadata": {},
   "outputs": [],
   "source": [
    "price_F= predict_F['price ']\n",
    "area_F= predict_F['area ']"
   ]
  },
  {
   "cell_type": "code",
   "execution_count": 126,
   "id": "11833cec",
   "metadata": {},
   "outputs": [],
   "source": [
    "x_F = np.array(area_F).reshape(-1,1)\n",
    "y_F= np.array(price_F)\n"
   ]
  },
  {
   "cell_type": "code",
   "execution_count": 127,
   "id": "ce8fa804",
   "metadata": {},
   "outputs": [],
   "source": [
    "from sklearn.model_selection import train_test_split\n",
    "Fx_train, Fx_test , Fy_train, Fy_test = train_test_split(x_F,y_F,test_size=1/3,random_state=0)"
   ]
  },
  {
   "cell_type": "code",
   "execution_count": 128,
   "id": "22eb436b",
   "metadata": {},
   "outputs": [],
   "source": [
    "from sklearn.preprocessing import StandardScaler\n",
    "sc_x= StandardScaler()\n",
    "Fx_train = sc_x.fit_transform(Fx_train)\n",
    "Fx_test = sc_x.fit_transform(Fx_test)"
   ]
  },
  {
   "cell_type": "code",
   "execution_count": 129,
   "id": "b0cd0fda",
   "metadata": {},
   "outputs": [
    {
     "data": {
      "text/plain": [
       "LinearRegression()"
      ]
     },
     "execution_count": 129,
     "metadata": {},
     "output_type": "execute_result"
    }
   ],
   "source": [
    "from sklearn.linear_model import LinearRegression \n",
    "regresssor = LinearRegression()\n",
    "regresssor.fit(Fx_train , Fy_train)\n",
    "\n"
   ]
  },
  {
   "cell_type": "code",
   "execution_count": 130,
   "id": "59837920",
   "metadata": {},
   "outputs": [],
   "source": [
    "# Predicting the the test set results\n",
    "\n",
    "y_pred_F = regresssor.predict(Fx_test)"
   ]
  },
  {
   "cell_type": "code",
   "execution_count": 132,
   "id": "7598bbd5",
   "metadata": {},
   "outputs": [
    {
     "data": {
      "image/png": "[encoded data removed]",
      "text/plain": [
       "<Figure size 432x288 with 1 Axes>"
      ]
     },
     "metadata": {
      "needs_background": "light"
     },
     "output_type": "display_data"
    }
   ],
   "source": [
    "#visualising and training set \n",
    "plt.scatter(Fx_train , Fy_train , color = 'red')\n",
    "plt.plot(Fx_train, regresssor.predict(Fx_train) , color = 'blue')\n",
    "plt.title('price vs area (Training set of Prince Fawaz neighborhood)')\n",
    "plt.xlabel('The real estate space ')\n",
    "plt.ylabel('price')\n",
    "plt.show()\n",
    "\n",
    "\n"
   ]
  },
  {
   "cell_type": "code",
   "execution_count": 133,
   "id": "66158a93",
   "metadata": {},
   "outputs": [
    {
     "data": {
      "image/png": "[encoded data removed]",
      "text/plain": [
       "<Figure size 432x288 with 1 Axes>"
      ]
     },
     "metadata": {
      "needs_background": "light"
     },
     "output_type": "display_data"
    }
   ],
   "source": [
    "#visualising and test set \n",
    "plt.scatter(Fx_test , Fy_test , color = 'red')\n",
    "plt.plot(Fx_train, regresssor.predict(Fx_train) , color = 'blue')\n",
    "plt.title('price vs area (Testing set of Prince Fawaz neighborhood)')\n",
    "plt.xlabel('The real estate space ')\n",
    "plt.ylabel('price')\n",
    "plt.show()\n"
   ]
  },
  {
   "cell_type": "markdown",
   "id": "452670f5",
   "metadata": {},
   "source": [
    " ### 2. Al Amwaj neighborhood"
   ]
  },
  {
   "cell_type": "code",
   "execution_count": 134,
   "id": "18931284",
   "metadata": {},
   "outputs": [],
   "source": [
    "#حي الامواج  \n",
    "predict_am = pd.read_excel('predict_am.xlsx')\n",
    "#predict_am"
   ]
  },
  {
   "cell_type": "code",
   "execution_count": 135,
   "id": "dd5ba7be",
   "metadata": {},
   "outputs": [],
   "source": [
    "price_am= predict_am['price ']\n",
    "area_am= predict_am['area ']"
   ]
  },
  {
   "cell_type": "code",
   "execution_count": 136,
   "id": "f9e6b576",
   "metadata": {},
   "outputs": [],
   "source": [
    "am_x = np.array(area_am).reshape(-1,1)\n",
    "am_y= np.array(price_am)"
   ]
  },
  {
   "cell_type": "code",
   "execution_count": 137,
   "id": "4935fc6b",
   "metadata": {},
   "outputs": [],
   "source": [
    "from sklearn.model_selection import train_test_split\n",
    "amx_train, amx_test , amy_train, amy_test = train_test_split(am_x,am_y,test_size=1/3,random_state=0)"
   ]
  },
  {
   "cell_type": "code",
   "execution_count": 138,
   "id": "b1762127",
   "metadata": {},
   "outputs": [],
   "source": [
    "from sklearn.preprocessing import StandardScaler\n",
    "sc_x= StandardScaler()\n",
    "amx_train = sc_x.fit_transform(amx_train)\n",
    "amx_test = sc_x.fit_transform(amx_test)"
   ]
  },
  {
   "cell_type": "code",
   "execution_count": 139,
   "id": "0507ec7f",
   "metadata": {},
   "outputs": [
    {
     "data": {
      "text/plain": [
       "LinearRegression()"
      ]
     },
     "execution_count": 139,
     "metadata": {},
     "output_type": "execute_result"
    }
   ],
   "source": [
    "from sklearn.linear_model import LinearRegression \n",
    "regresssor = LinearRegression()\n",
    "regresssor.fit(amx_train ,amy_train)"
   ]
  },
  {
   "cell_type": "code",
   "execution_count": 140,
   "id": "7adf17e9",
   "metadata": {},
   "outputs": [],
   "source": [
    "# Predicting the the test set results\n",
    "y_pred_am = regresssor.predict(amx_test)"
   ]
  },
  {
   "cell_type": "code",
   "execution_count": 141,
   "id": "c696a032",
   "metadata": {},
   "outputs": [
    {
     "data": {
      "image/png": "[encoded data removed]",
      "text/plain": [
       "<Figure size 432x288 with 1 Axes>"
      ]
     },
     "metadata": {
      "needs_background": "light"
     },
     "output_type": "display_data"
    }
   ],
   "source": [
    "#visualising and training set \n",
    "plt.scatter(amx_train , amy_train , color = 'red')\n",
    "plt.plot(amx_train, regresssor.predict(amx_train) , color = 'blue')\n",
    "plt.title('price vs area (Training set of Al Amwaj neighborhood)')\n",
    "plt.xlabel('The real estate space ')\n",
    "plt.ylabel('price')\n",
    "plt.show()\n"
   ]
  },
  {
   "cell_type": "code",
   "execution_count": 142,
   "id": "8cc6efaf",
   "metadata": {},
   "outputs": [
    {
     "data": {
      "image/png": "[encoded data removed]",
      "text/plain": [
       "<Figure size 432x288 with 1 Axes>"
      ]
     },
     "metadata": {
      "needs_background": "light"
     },
     "output_type": "display_data"
    }
   ],
   "source": [
    "\n",
    "#visualising and test set \n",
    "plt.scatter(amx_test , amy_test , color = 'red')\n",
    "plt.plot(amx_train, regresssor.predict(amx_train) , color = 'blue')\n",
    "plt.title('price vs area (Testing set of Al Amwaj neighborhood)')\n",
    "plt.xlabel('The real estate space ')\n",
    "plt.ylabel('price')\n",
    "plt.show()\n",
    "\n"
   ]
  },
  {
   "cell_type": "markdown",
   "id": "defa7fbc",
   "metadata": {},
   "source": [
    "### 3. Al Bawadi  neighborhood"
   ]
  },
  {
   "cell_type": "code",
   "execution_count": 143,
   "id": "ebc44509",
   "metadata": {},
   "outputs": [],
   "source": [
    "#حي البوادي \n",
    "predict_bawady = pd.read_excel('predict_bawady.xlsx')\n",
    "\n",
    "#predict_bawady"
   ]
  },
  {
   "cell_type": "code",
   "execution_count": 144,
   "id": "408bb1b1",
   "metadata": {},
   "outputs": [],
   "source": [
    "price_bawady= predict_bawady['price ']\n",
    "area_bawady= predict_bawady['area ']"
   ]
  },
  {
   "cell_type": "code",
   "execution_count": 145,
   "id": "28c01bd2",
   "metadata": {},
   "outputs": [],
   "source": [
    "bawady_x = np.array(area_bawady).reshape(-1,1)\n",
    "bawady_y= np.array(price_bawady)\n",
    "\n"
   ]
  },
  {
   "cell_type": "code",
   "execution_count": 146,
   "id": "a58ec37e",
   "metadata": {},
   "outputs": [],
   "source": [
    "from sklearn.model_selection import train_test_split\n",
    "bax_train, bax_test , bay_train, bay_test = train_test_split(bawady_x,bawady_y,test_size=1/3,random_state=0)"
   ]
  },
  {
   "cell_type": "code",
   "execution_count": 147,
   "id": "68770dde",
   "metadata": {},
   "outputs": [],
   "source": [
    "from sklearn.preprocessing import StandardScaler\n",
    "sc_x= StandardScaler()\n",
    "bax_train = sc_x.fit_transform(bax_train)\n",
    "bax_test = sc_x.fit_transform(bax_test)"
   ]
  },
  {
   "cell_type": "code",
   "execution_count": 148,
   "id": "dafff8f3",
   "metadata": {},
   "outputs": [
    {
     "data": {
      "text/plain": [
       "LinearRegression()"
      ]
     },
     "execution_count": 148,
     "metadata": {},
     "output_type": "execute_result"
    }
   ],
   "source": [
    "from sklearn.linear_model import LinearRegression \n",
    "regresssor = LinearRegression()\n",
    "regresssor.fit(bax_train , bay_train)"
   ]
  },
  {
   "cell_type": "code",
   "execution_count": 149,
   "id": "c57052d4",
   "metadata": {},
   "outputs": [],
   "source": [
    "# Predicting the the test set results\n",
    "y_pred_ba = regresssor.predict(bax_test)"
   ]
  },
  {
   "cell_type": "code",
   "execution_count": 150,
   "id": "a6d21026",
   "metadata": {},
   "outputs": [
    {
     "data": {
      "image/png": "[encoded data removed]",
      "text/plain": [
       "<Figure size 432x288 with 1 Axes>"
      ]
     },
     "metadata": {
      "needs_background": "light"
     },
     "output_type": "display_data"
    }
   ],
   "source": [
    "#visualising and training set \n",
    "plt.scatter(bax_train , bay_train , color = 'red')\n",
    "plt.plot(bax_train, regresssor.predict(bax_train) , color = 'blue')\n",
    "plt.title('price vs area (Training set of Al Bawadi neighborhood)')\n",
    "plt.xlabel('The real estate space ')\n",
    "plt.ylabel('price')\n",
    "plt.show()"
   ]
  },
  {
   "cell_type": "code",
   "execution_count": 151,
   "id": "5043bf33",
   "metadata": {
    "scrolled": true
   },
   "outputs": [
    {
     "data": {
      "image/png": "[encoded data removed]",
      "text/plain": [
       "<Figure size 432x288 with 1 Axes>"
      ]
     },
     "metadata": {
      "needs_background": "light"
     },
     "output_type": "display_data"
    }
   ],
   "source": [
    "#visualising and test set \n",
    "plt.scatter(bax_test , bay_test , color = 'red')\n",
    "plt.plot(bax_train, regresssor.predict(bax_train) , color = 'blue')\n",
    "plt.title('price vs area (Testing set of Al Bawadi neighborhood)')\n",
    "plt.xlabel('The real estate space ')\n",
    "plt.ylabel('price')\n",
    "plt.show()\n",
    "\n"
   ]
  },
  {
   "cell_type": "markdown",
   "id": "391be6b4",
   "metadata": {},
   "source": [
    "### 4. Al-Bashaer neighborhood"
   ]
  },
  {
   "cell_type": "code",
   "execution_count": 152,
   "id": "1c30a7e4",
   "metadata": {},
   "outputs": [],
   "source": [
    "# حي البشائر \n",
    "predict_Bashaer = pd.read_excel('predict_baysh.xlsx')\n",
    "#predict_baysh"
   ]
  },
  {
   "cell_type": "code",
   "execution_count": 153,
   "id": "cde1d23b",
   "metadata": {},
   "outputs": [],
   "source": [
    "price_Bashaer= predict_Bashaer['price ']\n",
    "area_Bashaer= predict_Bashaer['area ']"
   ]
  },
  {
   "cell_type": "code",
   "execution_count": 154,
   "id": "1eda4e84",
   "metadata": {},
   "outputs": [],
   "source": [
    "Bashaer_x = np.array(area_Bashaer).reshape(-1,1)\n",
    "Bashaer_y= np.array(price_Bashaer)"
   ]
  },
  {
   "cell_type": "code",
   "execution_count": 155,
   "id": "82884e13",
   "metadata": {},
   "outputs": [],
   "source": [
    "from sklearn.model_selection import train_test_split\n",
    "shx_train, shx_test , shy_train, shy_test = train_test_split(Bashaer_x,Bashaer_y,test_size=1/3,random_state=0)"
   ]
  },
  {
   "cell_type": "code",
   "execution_count": 156,
   "id": "c3dd30d5",
   "metadata": {},
   "outputs": [],
   "source": [
    "from sklearn.preprocessing import StandardScaler\n",
    "sc_x= StandardScaler()\n",
    "shx_train = sc_x.fit_transform(shx_train)\n",
    "shx_test = sc_x.fit_transform(shx_test)"
   ]
  },
  {
   "cell_type": "code",
   "execution_count": 157,
   "id": "8261dd2a",
   "metadata": {},
   "outputs": [
    {
     "data": {
      "text/plain": [
       "LinearRegression()"
      ]
     },
     "execution_count": 157,
     "metadata": {},
     "output_type": "execute_result"
    }
   ],
   "source": [
    "from sklearn.linear_model import LinearRegression \n",
    "regresssor = LinearRegression()\n",
    "regresssor.fit(shx_train , shy_train)"
   ]
  },
  {
   "cell_type": "code",
   "execution_count": 158,
   "id": "97571266",
   "metadata": {},
   "outputs": [],
   "source": [
    "# Predicting the the test set results\n",
    "y_pred_sh = regresssor.predict(shx_test)"
   ]
  },
  {
   "cell_type": "code",
   "execution_count": 159,
   "id": "9a6eeee2",
   "metadata": {},
   "outputs": [
    {
     "data": {
      "image/png": "[encoded data removed]",
      "text/plain": [
       "<Figure size 432x288 with 1 Axes>"
      ]
     },
     "metadata": {
      "needs_background": "light"
     },
     "output_type": "display_data"
    }
   ],
   "source": [
    "#visualising and training set \n",
    "plt.scatter(shx_train , shy_train , color = 'red')\n",
    "plt.plot(shx_train, regresssor.predict(shx_train) , color = 'blue')\n",
    "plt.title('price vs area (Training set of Al-Bashaer neighborhood)')\n",
    "plt.xlabel('The real estate space ')\n",
    "plt.ylabel('price')\n",
    "plt.show()"
   ]
  },
  {
   "cell_type": "code",
   "execution_count": 160,
   "id": "0f032fc0",
   "metadata": {},
   "outputs": [
    {
     "data": {
      "image/png": "[encoded data removed]",
      "text/plain": [
       "<Figure size 432x288 with 1 Axes>"
      ]
     },
     "metadata": {
      "needs_background": "light"
     },
     "output_type": "display_data"
    }
   ],
   "source": [
    "#visualising and test set \n",
    "plt.scatter(shx_test , shy_test , color = 'red')\n",
    "plt.plot(shx_train, regresssor.predict(shx_train) , color = 'blue')\n",
    "plt.title('price vs area (Testing set of Al-Bashaer neighborhood)')\n",
    "plt.xlabel('The real estate space ')\n",
    "plt.ylabel('price')\n",
    "plt.show()\n",
    "\n"
   ]
  },
  {
   "cell_type": "markdown",
   "id": "c5c3f4fa",
   "metadata": {},
   "source": [
    "### 5. Obhur neighborhood"
   ]
  },
  {
   "cell_type": "code",
   "execution_count": 161,
   "id": "1fd528a8",
   "metadata": {},
   "outputs": [],
   "source": [
    "#حي آبحر   \n",
    "predict_ob = pd.read_excel('predict_ab.xlsx')\n",
    "#predict_ab"
   ]
  },
  {
   "cell_type": "code",
   "execution_count": 162,
   "id": "dd7e763e",
   "metadata": {},
   "outputs": [],
   "source": [
    "price_ob= predict_ob['price ']\n",
    "area_ob= predict_ob['area ']"
   ]
  },
  {
   "cell_type": "code",
   "execution_count": 163,
   "id": "8ac71d35",
   "metadata": {},
   "outputs": [],
   "source": [
    "x_ob = np.array(area_ob).reshape(-1,1)\n",
    "y_ob= np.array(price_ob)"
   ]
  },
  {
   "cell_type": "code",
   "execution_count": 164,
   "id": "d99b250a",
   "metadata": {},
   "outputs": [],
   "source": [
    "from sklearn.model_selection import train_test_split\n",
    "obx_train, obx_test , oby_train, oby_test = train_test_split(x_ob,y_ob,test_size=1/3,random_state=0)"
   ]
  },
  {
   "cell_type": "code",
   "execution_count": 165,
   "id": "7458fe17",
   "metadata": {},
   "outputs": [],
   "source": [
    "from sklearn.preprocessing import StandardScaler\n",
    "sc_x= StandardScaler()\n",
    "obx_train = sc_x.fit_transform(obx_train)\n",
    "obx_test = sc_x.fit_transform(obx_test)"
   ]
  },
  {
   "cell_type": "code",
   "execution_count": 166,
   "id": "cfa9e6a8",
   "metadata": {},
   "outputs": [
    {
     "data": {
      "text/plain": [
       "LinearRegression()"
      ]
     },
     "execution_count": 166,
     "metadata": {},
     "output_type": "execute_result"
    }
   ],
   "source": [
    "from sklearn.linear_model import LinearRegression \n",
    "regresssor = LinearRegression()\n",
    "regresssor.fit(obx_train , oby_train)"
   ]
  },
  {
   "cell_type": "code",
   "execution_count": 167,
   "id": "f3603507",
   "metadata": {},
   "outputs": [
    {
     "data": {
      "image/png": "[encoded data removed]",
      "text/plain": [
       "<Figure size 432x288 with 1 Axes>"
      ]
     },
     "metadata": {
      "needs_background": "light"
     },
     "output_type": "display_data"
    }
   ],
   "source": [
    "#visualising and training set \n",
    "plt.scatter(obx_train , oby_train , color = 'red')\n",
    "plt.plot(obx_train, regresssor.predict(obx_train) , color = 'blue')\n",
    "plt.title('price vs area (Training set of Obhur neighborhood)')\n",
    "plt.xlabel('The real estate space ')\n",
    "plt.ylabel('price')\n",
    "plt.show()"
   ]
  },
  {
   "cell_type": "code",
   "execution_count": 168,
   "id": "a607b487",
   "metadata": {},
   "outputs": [
    {
     "data": {
      "image/png": "[encoded data removed]",
      "text/plain": [
       "<Figure size 432x288 with 1 Axes>"
      ]
     },
     "metadata": {
      "needs_background": "light"
     },
     "output_type": "display_data"
    }
   ],
   "source": [
    "#visualising and test set \n",
    "plt.scatter(obx_test , oby_test , color = 'red')\n",
    "plt.plot(obx_train, regresssor.predict(obx_train) , color = 'blue')\n",
    "plt.title('price vs area (Testing set of Obhur neighborhood)')\n",
    "plt.xlabel('The real estate space ')\n",
    "plt.ylabel('price')\n",
    "plt.show()\n",
    "\n"
   ]
  }
 ],
 "metadata": {
  "kernelspec": {
   "display_name": "Python 3 (ipykernel)",
   "language": "python",
   "name": "python3"
  },
  "language_info": {
   "codemirror_mode": {
    "name": "ipython",
    "version": 3
   },
   "file_extension": ".py",
   "mimetype": "text/x-python",
   "name": "python",
   "nbconvert_exporter": "python",
   "pygments_lexer": "ipython3",
   "version": "3.9.7"
  }
 },
 "nbformat": 4,
 "nbformat_minor": 5
}
